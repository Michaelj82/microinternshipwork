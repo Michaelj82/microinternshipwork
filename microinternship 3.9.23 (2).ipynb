{
 "cells": [
  {
   "cell_type": "code",
   "execution_count": 2,
   "id": "dada076e",
   "metadata": {},
   "outputs": [],
   "source": [
    "from sklearn.feature_extraction.text import TfidfVectorizer\n",
    "import pandas as pd"
   ]
  },
  {
   "cell_type": "code",
   "execution_count": 3,
   "id": "5e07cdeb",
   "metadata": {},
   "outputs": [],
   "source": [
    "file = ('C:\\\\Users\\\\mjjyo\\\\OneDrive\\\\Desktop\\\\openavenuesmicrointernship\\\\open_ave_data.csv')\n",
    "file = pd.read_csv(file)"
   ]
  },
  {
   "cell_type": "code",
   "execution_count": 45,
   "id": "d7b819f2",
   "metadata": {},
   "outputs": [],
   "source": [
    "file.drop('Unnamed: 0', axis=1)\n",
    "#making all lowercase\n",
    "file = file.apply(lambda x: x.astype(str).str.lower())\n",
    "#getting rid of labels within data\n",
    "file['findings'] = file['findings'].str.replace('findings', '')\n",
    "file['clinicaldata'] = file['clinicaldata'].str.replace('clinical', '')\n",
    "file['clinicaldata'] = file['clinicaldata'].str.replace('indication', '')\n",
    "file['clinicaldata'] = file['clinicaldata'].str.replace('history', '')\n",
    "file['clinicaldata'] = file['clinicaldata'].str.replace('data', '')\n",
    "file['clinicaldata'] = file['clinicaldata'].str.replace('information', '')\n",
    "file['ExamName'] = file['ExamName'].str.replace('exam', '')\n",
    "file['impression'] = file['impression'].str.replace('impression', '')\n",
    "\n"
   ]
  },
  {
   "cell_type": "code",
   "execution_count": 46,
   "id": "b4a92765",
   "metadata": {},
   "outputs": [
    {
     "data": {
      "text/html": [
       "<div>\n",
       "<style scoped>\n",
       "    .dataframe tbody tr th:only-of-type {\n",
       "        vertical-align: middle;\n",
       "    }\n",
       "\n",
       "    .dataframe tbody tr th {\n",
       "        vertical-align: top;\n",
       "    }\n",
       "\n",
       "    .dataframe thead th {\n",
       "        text-align: right;\n",
       "    }\n",
       "</style>\n",
       "<table border=\"1\" class=\"dataframe\">\n",
       "  <thead>\n",
       "    <tr style=\"text-align: right;\">\n",
       "      <th></th>\n",
       "      <th>Unnamed: 0</th>\n",
       "      <th>ReportText</th>\n",
       "      <th>findings</th>\n",
       "      <th>clinicaldata</th>\n",
       "      <th>ExamName</th>\n",
       "      <th>impression</th>\n",
       "    </tr>\n",
       "  </thead>\n",
       "  <tbody>\n",
       "    <tr>\n",
       "      <th>0</th>\n",
       "      <td>0</td>\n",
       "      <td>exam: chest radiography exam date: 06/01/2019 ...</td>\n",
       "      <td>: lungs/pleura: no focal opacities evident. no...</td>\n",
       "      <td>: cough. \\n\\n</td>\n",
       "      <td>: chest radiography  date: 06/01/2019 08:30 pm...</td>\n",
       "      <td>: normal 2-view chest radiography.</td>\n",
       "    </tr>\n",
       "    <tr>\n",
       "      <th>1</th>\n",
       "      <td>1</td>\n",
       "      <td>exam: chest radiography exam date: 05/23/2020 ...</td>\n",
       "      <td>: lungs/pleura: no focal opacities evident. no...</td>\n",
       "      <td>: chest pain. \\n\\n</td>\n",
       "      <td>: chest radiography  date: 05/23/2020 12:03 pm...</td>\n",
       "      <td>: no acute cardiopulmonary abnormality.</td>\n",
       "    </tr>\n",
       "    <tr>\n",
       "      <th>2</th>\n",
       "      <td>2</td>\n",
       "      <td>exam: chest radiography exam date: 12/13/2019 ...</td>\n",
       "      <td>: lungs/pleura: no focal opacities evident. no...</td>\n",
       "      <td>: chest pain. \\n\\n</td>\n",
       "      <td>: chest radiography  date: 12/13/2019 03:40 pm...</td>\n",
       "      <td>: no acute cardiopulmonary process.</td>\n",
       "    </tr>\n",
       "    <tr>\n",
       "      <th>3</th>\n",
       "      <td>3</td>\n",
       "      <td>exam: - chest-portable history: chest pain com...</td>\n",
       "      <td>: heart size appears normal. lungs clear. \\n\\n</td>\n",
       "      <td>: chest pain \\n\\n</td>\n",
       "      <td>: - chest-portable\\n\\ncomparison: none</td>\n",
       "      <td>: lungs clear</td>\n",
       "    </tr>\n",
       "    <tr>\n",
       "      <th>4</th>\n",
       "      <td>4</td>\n",
       "      <td>exam: chest radiography exam date: 06/17/2021 ...</td>\n",
       "      <td>: lungs/pleura: no focal opacities evident. no...</td>\n",
       "      <td>: chest pain, shortness of breath. \\n\\n</td>\n",
       "      <td>: chest radiography  date: 06/17/2021 03:09 pm...</td>\n",
       "      <td>: normal single view chest.</td>\n",
       "    </tr>\n",
       "    <tr>\n",
       "      <th>...</th>\n",
       "      <td>...</td>\n",
       "      <td>...</td>\n",
       "      <td>...</td>\n",
       "      <td>...</td>\n",
       "      <td>...</td>\n",
       "      <td>...</td>\n",
       "    </tr>\n",
       "    <tr>\n",
       "      <th>949</th>\n",
       "      <td>982</td>\n",
       "      <td>chest radiograph: pa and lateral views history...</td>\n",
       "      <td>lungs: the lung fields demonstrate normal degr...</td>\n",
       "      <td>: r05 cough \\n\\n</td>\n",
       "      <td>chest radiograph: pa and lateral views\\n\\ncomp...</td>\n",
       "      <td>: no acute pulmonary disease.</td>\n",
       "    </tr>\n",
       "    <tr>\n",
       "      <th>950</th>\n",
       "      <td>983</td>\n",
       "      <td>exam description: x-ray single view chest. cli...</td>\n",
       "      <td>: the lungs are well expanded and are clear. t...</td>\n",
       "      <td>: 68 years male, sob \\n\\n</td>\n",
       "      <td>description: x-ray single view chest.\\n\\ntech...</td>\n",
       "      <td>: no evidence of acute intrathoracic disease. ...</td>\n",
       "    </tr>\n",
       "    <tr>\n",
       "      <th>951</th>\n",
       "      <td>984</td>\n",
       "      <td>exam: chest radiography exam date: 04/02/2018 ...</td>\n",
       "      <td>: lungs/pleura: no focal opacities evident. no...</td>\n",
       "      <td>: chest pain. \\n\\n</td>\n",
       "      <td>: chest radiography  date: 04/02/2018 10:49 pm...</td>\n",
       "      <td>: normal single view chest.</td>\n",
       "    </tr>\n",
       "    <tr>\n",
       "      <th>952</th>\n",
       "      <td>985</td>\n",
       "      <td>exam: xr chest 1 vw history: chest pain techni...</td>\n",
       "      <td>: lines and tubes: none cardiomediastinal: the...</td>\n",
       "      <td>: chest pain \\n\\n</td>\n",
       "      <td>: xr chest 1 vw\\n\\ntechnique: chest ap view(s)...</td>\n",
       "      <td>: no acute cardiopulmonary process dictated by...</td>\n",
       "    </tr>\n",
       "    <tr>\n",
       "      <th>953</th>\n",
       "      <td>986</td>\n",
       "      <td>exam: xr chest ap or pa only indication: dyspn...</td>\n",
       "      <td>: persistent mild pulmonary vascular congestio...</td>\n",
       "      <td>: dyspnea \\n\\n</td>\n",
       "      <td>: xr chest ap or pa only\\n\\ntechnique: single ...</td>\n",
       "      <td>: 1. persistent mild pulmonary vascular conges...</td>\n",
       "    </tr>\n",
       "  </tbody>\n",
       "</table>\n",
       "<p>954 rows × 6 columns</p>\n",
       "</div>"
      ],
      "text/plain": [
       "    Unnamed: 0                                         ReportText  \\\n",
       "0            0  exam: chest radiography exam date: 06/01/2019 ...   \n",
       "1            1  exam: chest radiography exam date: 05/23/2020 ...   \n",
       "2            2  exam: chest radiography exam date: 12/13/2019 ...   \n",
       "3            3  exam: - chest-portable history: chest pain com...   \n",
       "4            4  exam: chest radiography exam date: 06/17/2021 ...   \n",
       "..         ...                                                ...   \n",
       "949        982  chest radiograph: pa and lateral views history...   \n",
       "950        983  exam description: x-ray single view chest. cli...   \n",
       "951        984  exam: chest radiography exam date: 04/02/2018 ...   \n",
       "952        985  exam: xr chest 1 vw history: chest pain techni...   \n",
       "953        986  exam: xr chest ap or pa only indication: dyspn...   \n",
       "\n",
       "                                              findings  \\\n",
       "0    : lungs/pleura: no focal opacities evident. no...   \n",
       "1    : lungs/pleura: no focal opacities evident. no...   \n",
       "2    : lungs/pleura: no focal opacities evident. no...   \n",
       "3       : heart size appears normal. lungs clear. \\n\\n   \n",
       "4    : lungs/pleura: no focal opacities evident. no...   \n",
       "..                                                 ...   \n",
       "949  lungs: the lung fields demonstrate normal degr...   \n",
       "950  : the lungs are well expanded and are clear. t...   \n",
       "951  : lungs/pleura: no focal opacities evident. no...   \n",
       "952  : lines and tubes: none cardiomediastinal: the...   \n",
       "953  : persistent mild pulmonary vascular congestio...   \n",
       "\n",
       "                                 clinicaldata  \\\n",
       "0                               : cough. \\n\\n   \n",
       "1                          : chest pain. \\n\\n   \n",
       "2                          : chest pain. \\n\\n   \n",
       "3                           : chest pain \\n\\n   \n",
       "4     : chest pain, shortness of breath. \\n\\n   \n",
       "..                                        ...   \n",
       "949                          : r05 cough \\n\\n   \n",
       "950                 : 68 years male, sob \\n\\n   \n",
       "951                        : chest pain. \\n\\n   \n",
       "952                         : chest pain \\n\\n   \n",
       "953                            : dyspnea \\n\\n   \n",
       "\n",
       "                                              ExamName  \\\n",
       "0    : chest radiography  date: 06/01/2019 08:30 pm...   \n",
       "1    : chest radiography  date: 05/23/2020 12:03 pm...   \n",
       "2    : chest radiography  date: 12/13/2019 03:40 pm...   \n",
       "3               : - chest-portable\\n\\ncomparison: none   \n",
       "4    : chest radiography  date: 06/17/2021 03:09 pm...   \n",
       "..                                                 ...   \n",
       "949  chest radiograph: pa and lateral views\\n\\ncomp...   \n",
       "950   description: x-ray single view chest.\\n\\ntech...   \n",
       "951  : chest radiography  date: 04/02/2018 10:49 pm...   \n",
       "952  : xr chest 1 vw\\n\\ntechnique: chest ap view(s)...   \n",
       "953  : xr chest ap or pa only\\n\\ntechnique: single ...   \n",
       "\n",
       "                                            impression  \n",
       "0                  : normal 2-view chest radiography.   \n",
       "1             : no acute cardiopulmonary abnormality.   \n",
       "2                 : no acute cardiopulmonary process.   \n",
       "3                                        : lungs clear  \n",
       "4                         : normal single view chest.   \n",
       "..                                                 ...  \n",
       "949                      : no acute pulmonary disease.  \n",
       "950  : no evidence of acute intrathoracic disease. ...  \n",
       "951                       : normal single view chest.   \n",
       "952  : no acute cardiopulmonary process dictated by...  \n",
       "953  : 1. persistent mild pulmonary vascular conges...  \n",
       "\n",
       "[954 rows x 6 columns]"
      ]
     },
     "execution_count": 46,
     "metadata": {},
     "output_type": "execute_result"
    }
   ],
   "source": [
    "file = file.dropna()\n",
    "file"
   ]
  },
  {
   "cell_type": "code",
   "execution_count": null,
   "id": "e09e7f65",
   "metadata": {},
   "outputs": [],
   "source": []
  },
  {
   "cell_type": "code",
   "execution_count": null,
   "id": "e616ac3b",
   "metadata": {},
   "outputs": [],
   "source": []
  },
  {
   "cell_type": "code",
   "execution_count": 47,
   "id": "1f2252ab",
   "metadata": {},
   "outputs": [
    {
     "name": "stdout",
     "output_type": "stream",
     "text": [
      "954\n",
      "954\n",
      "954\n",
      "954\n"
     ]
    }
   ],
   "source": [
    "#files to do idf on\n",
    "exam_names = file['ExamName'].dropna().tolist()\n",
    "print(len(exam_names))\n",
    "\n",
    "impressions= file['impression'].dropna().tolist()\n",
    "print(len(impressions))\n",
    "\n",
    "findings = file['findings'].dropna().tolist()\n",
    "print(len(findings))\n",
    "\n",
    "clinical_data = file['clinicaldata'].dropna().tolist()\n",
    "print(len(clinical_data))\n"
   ]
  },
  {
   "cell_type": "code",
   "execution_count": 48,
   "id": "60a9adb5",
   "metadata": {},
   "outputs": [],
   "source": [
    "#list of corpus\n",
    "corpus = exam_names + impressions + findings + clinical_data\n"
   ]
  },
  {
   "cell_type": "code",
   "execution_count": 49,
   "id": "6d6a4643",
   "metadata": {},
   "outputs": [
    {
     "data": {
      "text/plain": [
       "array(['00', '01', '02', ..., 'your', 'zip', 'zone'], dtype=object)"
      ]
     },
     "execution_count": 49,
     "metadata": {},
     "output_type": "execute_result"
    }
   ],
   "source": [
    "\n",
    "vectorizer = TfidfVectorizer()\n",
    "X = vectorizer.fit_transform(corpus)\n",
    "vectorizer.get_feature_names_out()"
   ]
  },
  {
   "cell_type": "code",
   "execution_count": 50,
   "id": "6f70c646",
   "metadata": {},
   "outputs": [
    {
     "name": "stdout",
     "output_type": "stream",
     "text": [
      "(3816, 1077)\n"
     ]
    }
   ],
   "source": [
    "print(X.shape)"
   ]
  },
  {
   "cell_type": "code",
   "execution_count": 51,
   "id": "9cc254e9",
   "metadata": {},
   "outputs": [
    {
     "data": {
      "text/plain": [
       "array([[0.        , 0.34647238, 0.        , ..., 0.        , 0.        ,\n",
       "        0.        ],\n",
       "       [0.        , 0.        , 0.        , ..., 0.        , 0.        ,\n",
       "        0.        ],\n",
       "       [0.        , 0.        , 0.        , ..., 0.        , 0.        ,\n",
       "        0.        ],\n",
       "       ...,\n",
       "       [0.        , 0.        , 0.        , ..., 0.        , 0.        ,\n",
       "        0.        ],\n",
       "       [0.        , 0.        , 0.        , ..., 0.        , 0.        ,\n",
       "        0.        ],\n",
       "       [0.        , 0.        , 0.        , ..., 0.        , 0.        ,\n",
       "        0.        ]])"
      ]
     },
     "execution_count": 51,
     "metadata": {},
     "output_type": "execute_result"
    }
   ],
   "source": [
    "X.toarray()"
   ]
  },
  {
   "cell_type": "code",
   "execution_count": 52,
   "id": "5004b292",
   "metadata": {},
   "outputs": [
    {
     "data": {
      "text/plain": [
       "(3816, 1077)"
      ]
     },
     "execution_count": 52,
     "metadata": {},
     "output_type": "execute_result"
    }
   ],
   "source": [
    "import numpy as np\n",
    "from sklearn.model_selection import train_test_split\n",
    "X.shape"
   ]
  },
  {
   "cell_type": "code",
   "execution_count": 53,
   "id": "cab0c068",
   "metadata": {},
   "outputs": [],
   "source": [
    "height = 3816\n",
    "y = pd.DataFrame(0, index=range(height), columns=range(1))"
   ]
  },
  {
   "cell_type": "code",
   "execution_count": 54,
   "id": "80cc2100",
   "metadata": {},
   "outputs": [],
   "source": [
    "y.shape\n",
    "\n",
    "y.loc[0:953] = 'ExamName'\n",
    "y.loc[954:1907] = 'impression'\n",
    "y.loc[1908:2861] = 'findings'\n",
    "y.loc[2862:3816] = 'clinicaldata'\n"
   ]
  },
  {
   "cell_type": "code",
   "execution_count": 55,
   "id": "32571451",
   "metadata": {},
   "outputs": [],
   "source": [
    "from sklearn.linear_model import LogisticRegression\n",
    "from sklearn.model_selection import GridSearchCV\n",
    "from sklearn.metrics import classification_report, confusion_matrix, accuracy_score\n"
   ]
  },
  {
   "cell_type": "code",
   "execution_count": 56,
   "id": "9e9fa693",
   "metadata": {},
   "outputs": [],
   "source": [
    "x_train, x_test, y_train, y_test = train_test_split(X,\n",
    "                                                    y,\n",
    "                                                    test_size=0.3 ,\n",
    "                                                    random_state=1234)\n"
   ]
  },
  {
   "cell_type": "code",
   "execution_count": 57,
   "id": "33d285a9",
   "metadata": {},
   "outputs": [],
   "source": [
    "lr_model = LogisticRegression(random_state=1234)\n",
    "param_dict = {'C': [0.001, 0.01, 0.1, 1, 10],\n",
    "             'solver': ['sag', 'lbfgs', 'saga']}"
   ]
  },
  {
   "cell_type": "code",
   "execution_count": 58,
   "id": "fe0f88ae",
   "metadata": {},
   "outputs": [
    {
     "name": "stderr",
     "output_type": "stream",
     "text": [
      "C:\\Users\\mjjyo\\anaconda3\\lib\\site-packages\\sklearn\\linear_model\\_sag.py:352: ConvergenceWarning: The max_iter was reached which means the coef_ did not converge\n",
      "  warnings.warn(\n",
      "C:\\Users\\mjjyo\\anaconda3\\lib\\site-packages\\sklearn\\linear_model\\_sag.py:352: ConvergenceWarning: The max_iter was reached which means the coef_ did not converge\n",
      "  warnings.warn(\n",
      "C:\\Users\\mjjyo\\anaconda3\\lib\\site-packages\\sklearn\\linear_model\\_sag.py:352: ConvergenceWarning: The max_iter was reached which means the coef_ did not converge\n",
      "  warnings.warn(\n",
      "C:\\Users\\mjjyo\\anaconda3\\lib\\site-packages\\sklearn\\linear_model\\_sag.py:352: ConvergenceWarning: The max_iter was reached which means the coef_ did not converge\n",
      "  warnings.warn(\n",
      "C:\\Users\\mjjyo\\anaconda3\\lib\\site-packages\\sklearn\\linear_model\\_sag.py:352: ConvergenceWarning: The max_iter was reached which means the coef_ did not converge\n",
      "  warnings.warn(\n"
     ]
    },
    {
     "data": {
      "text/plain": [
       "{'C': 10, 'solver': 'sag'}"
      ]
     },
     "metadata": {},
     "output_type": "display_data"
    },
    {
     "name": "stdout",
     "output_type": "stream",
     "text": [
      "Cross-Validated Score of the Best Estimator: 0.991\n"
     ]
    }
   ],
   "source": [
    "grid_search = GridSearchCV(lr_model, param_dict)\n",
    "grid_search.fit(x_train, y_train.values.ravel())\n",
    "display(grid_search.best_params_)\n",
    "print(\"Cross-Validated Score of the Best Estimator: %.3f\" % grid_search.best_score_)\n"
   ]
  },
  {
   "cell_type": "code",
   "execution_count": 59,
   "id": "f9b27b5b",
   "metadata": {},
   "outputs": [],
   "source": [
    "lr=LogisticRegression(C=1, solver ='saga')\n",
    "lr.fit(x_train, y_train.values.ravel())\n",
    "lr_preds = lr.predict(x_test)"
   ]
  },
  {
   "cell_type": "code",
   "execution_count": 60,
   "id": "e68a540e",
   "metadata": {},
   "outputs": [
    {
     "name": "stdout",
     "output_type": "stream",
     "text": [
      "[[282   0   0   1]\n",
      " [  0 292   1   1]\n",
      " [  0   0 295   1]\n",
      " [  0   0   4 268]]\n",
      "              precision    recall  f1-score   support\n",
      "\n",
      "    ExamName       1.00      1.00      1.00       283\n",
      "clinicaldata       1.00      0.99      1.00       294\n",
      "    findings       0.98      1.00      0.99       296\n",
      "  impression       0.99      0.99      0.99       272\n",
      "\n",
      "    accuracy                           0.99      1145\n",
      "   macro avg       0.99      0.99      0.99      1145\n",
      "weighted avg       0.99      0.99      0.99      1145\n",
      "\n",
      "Accuracy Score: 0.993\n"
     ]
    }
   ],
   "source": [
    "\n",
    "print(confusion_matrix(y_test, lr_preds))\n",
    "print(classification_report(y_test, lr_preds))\n",
    "print(\"Accuracy Score: %.3f\" % accuracy_score(y_test, lr_preds))"
   ]
  },
  {
   "cell_type": "code",
   "execution_count": 61,
   "id": "83544d6b",
   "metadata": {},
   "outputs": [],
   "source": [
    "cm = confusion_matrix(y_test, lr_preds)\n",
    "score = accuracy_score(y_test, lr_preds)"
   ]
  },
  {
   "cell_type": "code",
   "execution_count": 62,
   "id": "b9ee5257",
   "metadata": {},
   "outputs": [],
   "source": [
    "import seaborn as sns\n",
    "import matplotlib.pyplot as plt"
   ]
  },
  {
   "cell_type": "code",
   "execution_count": 63,
   "id": "8804482b",
   "metadata": {},
   "outputs": [
    {
     "data": {
      "text/plain": [
       "Text(0.5, 1.0, 'Accuracy Score 0.9930131004366812')"
      ]
     },
     "execution_count": 63,
     "metadata": {},
     "output_type": "execute_result"
    },
    {
     "data": {
      "image/png": "[encoded data removed]",
      "text/plain": [
       "<Figure size 400x400 with 2 Axes>"
      ]
     },
     "metadata": {},
     "output_type": "display_data"
    }
   ],
   "source": [
    "plt.figure(figsize=(4,4))\n",
    "sns.heatmap(cm, annot=True, fmt='.3f', linewidths=0.5, square=\n",
    "           True, cmap='Blues_r')\n",
    "plt.ylabel('Actual Classification')\n",
    "plt.xlabel('Predicted Classification')\n",
    "all_sample_title = f'Accuracy Score {score}'\n",
    "plt.title(all_sample_title, size=8)"
   ]
  },
  {
   "cell_type": "code",
   "execution_count": null,
   "id": "3b9fac34",
   "metadata": {},
   "outputs": [],
   "source": []
  },
  {
   "cell_type": "code",
   "execution_count": null,
   "id": "61ad1105",
   "metadata": {},
   "outputs": [],
   "source": []
  }
 ],
 "metadata": {
  "kernelspec": {
   "display_name": "Python 3 (ipykernel)",
   "language": "python",
   "name": "python3"
  },
  "language_info": {
   "codemirror_mode": {
    "name": "ipython",
    "version": 3
   },
   "file_extension": ".py",
   "mimetype": "text/x-python",
   "name": "python",
   "nbconvert_exporter": "python",
   "pygments_lexer": "ipython3",
   "version": "3.9.13"
  }
 },
 "nbformat": 4,
 "nbformat_minor": 5
}
