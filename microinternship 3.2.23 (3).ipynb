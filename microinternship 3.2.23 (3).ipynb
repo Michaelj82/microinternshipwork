{
 "cells": [
  {
   "cell_type": "code",
   "execution_count": 100,
   "id": "381ee8e0",
   "metadata": {},
   "outputs": [],
   "source": [
    "from sklearn.feature_extraction.text import TfidfVectorizer\n",
    "import pandas as pd"
   ]
  },
  {
   "cell_type": "code",
   "execution_count": 101,
   "id": "dd8c5cc9",
   "metadata": {},
   "outputs": [],
   "source": [
    "file = ('C:\\\\Users\\\\mjjyo\\\\OneDrive\\\\Desktop\\\\openavenuesmicrointernship\\\\open_ave_data.csv')\n",
    "file = pd.read_csv(file)"
   ]
  },
  {
   "cell_type": "code",
   "execution_count": 102,
   "id": "fe6e2b2f",
   "metadata": {},
   "outputs": [
    {
     "data": {
      "text/html": [
       "<div>\n",
       "<style scoped>\n",
       "    .dataframe tbody tr th:only-of-type {\n",
       "        vertical-align: middle;\n",
       "    }\n",
       "\n",
       "    .dataframe tbody tr th {\n",
       "        vertical-align: top;\n",
       "    }\n",
       "\n",
       "    .dataframe thead th {\n",
       "        text-align: right;\n",
       "    }\n",
       "</style>\n",
       "<table border=\"1\" class=\"dataframe\">\n",
       "  <thead>\n",
       "    <tr style=\"text-align: right;\">\n",
       "      <th></th>\n",
       "      <th>Unnamed: 0</th>\n",
       "      <th>ReportText</th>\n",
       "      <th>findings</th>\n",
       "      <th>clinicaldata</th>\n",
       "      <th>ExamName</th>\n",
       "      <th>impression</th>\n",
       "    </tr>\n",
       "  </thead>\n",
       "  <tbody>\n",
       "    <tr>\n",
       "      <th>0</th>\n",
       "      <td>0</td>\n",
       "      <td>EXAM: CHEST RADIOGRAPHY EXAM DATE: 06/01/2019 ...</td>\n",
       "      <td>FINDINGS: Lungs/Pleura: No focal opacities evi...</td>\n",
       "      <td>CLINICAL HISTORY: Cough. \\n\\n</td>\n",
       "      <td>EXAM: CHEST RADIOGRAPHY EXAM DATE: 06/01/2019 ...</td>\n",
       "      <td>IMPRESSION: Normal 2-view chest radiography.</td>\n",
       "    </tr>\n",
       "    <tr>\n",
       "      <th>1</th>\n",
       "      <td>1</td>\n",
       "      <td>EXAM: CHEST RADIOGRAPHY EXAM DATE: 05/23/2020 ...</td>\n",
       "      <td>FINDINGS: Lungs/Pleura: No focal opacities evi...</td>\n",
       "      <td>CLINICAL HISTORY: CHEST PAIN. \\n\\n</td>\n",
       "      <td>EXAM: CHEST RADIOGRAPHY EXAM DATE: 05/23/2020 ...</td>\n",
       "      <td>IMPRESSION: No acute cardiopulmonary abnormali...</td>\n",
       "    </tr>\n",
       "    <tr>\n",
       "      <th>2</th>\n",
       "      <td>2</td>\n",
       "      <td>EXAM: CHEST RADIOGRAPHY EXAM DATE: 12/13/2019 ...</td>\n",
       "      <td>FINDINGS: Lungs/Pleura: No focal opacities evi...</td>\n",
       "      <td>CLINICAL HISTORY: CHEST PAIN. \\n\\n</td>\n",
       "      <td>EXAM: CHEST RADIOGRAPHY EXAM DATE: 12/13/2019 ...</td>\n",
       "      <td>IMPRESSION: No acute cardiopulmonary process.</td>\n",
       "    </tr>\n",
       "    <tr>\n",
       "      <th>3</th>\n",
       "      <td>3</td>\n",
       "      <td>Exam: - CHEST-PORTABLE History: Chest pain Com...</td>\n",
       "      <td>Findings: Heart size appears normal. Lungs cle...</td>\n",
       "      <td>History: Chest pain \\n\\n</td>\n",
       "      <td>Exam: - CHEST-PORTABLE\\n\\nComparison: None</td>\n",
       "      <td>Impression: Lungs clear</td>\n",
       "    </tr>\n",
       "    <tr>\n",
       "      <th>4</th>\n",
       "      <td>4</td>\n",
       "      <td>EXAM: CHEST RADIOGRAPHY EXAM DATE: 06/17/2021 ...</td>\n",
       "      <td>FINDINGS: Lungs/Pleura: No focal opacities evi...</td>\n",
       "      <td>CLINICAL HISTORY: CHEST PAIN, SHORTNESS OF BRE...</td>\n",
       "      <td>EXAM: CHEST RADIOGRAPHY EXAM DATE: 06/17/2021 ...</td>\n",
       "      <td>IMPRESSION: Normal single view chest.</td>\n",
       "    </tr>\n",
       "    <tr>\n",
       "      <th>...</th>\n",
       "      <td>...</td>\n",
       "      <td>...</td>\n",
       "      <td>...</td>\n",
       "      <td>...</td>\n",
       "      <td>...</td>\n",
       "      <td>...</td>\n",
       "    </tr>\n",
       "    <tr>\n",
       "      <th>949</th>\n",
       "      <td>982</td>\n",
       "      <td>CHEST RADIOGRAPH: PA and Lateral views HISTORY...</td>\n",
       "      <td>LUNGS: The lung fields demonstrate normal degr...</td>\n",
       "      <td>HISTORY: R05 Cough \\n\\n</td>\n",
       "      <td>CHEST RADIOGRAPH: PA and Lateral views\\n\\nCOMP...</td>\n",
       "      <td>IMPRESSION: No acute pulmonary disease.</td>\n",
       "    </tr>\n",
       "    <tr>\n",
       "      <th>950</th>\n",
       "      <td>983</td>\n",
       "      <td>EXAM DESCRIPTION: X-ray single view chest. CLI...</td>\n",
       "      <td>FINDINGS: The lungs are well expanded and are ...</td>\n",
       "      <td>CLINICAL HISTORY: 68 years Male, SOB \\n\\n</td>\n",
       "      <td>EXAM DESCRIPTION: X-ray single view chest.\\n\\n...</td>\n",
       "      <td>IMPRESSION: No evidence of acute intrathoracic...</td>\n",
       "    </tr>\n",
       "    <tr>\n",
       "      <th>951</th>\n",
       "      <td>984</td>\n",
       "      <td>EXAM: CHEST RADIOGRAPHY EXAM DATE: 04/02/2018 ...</td>\n",
       "      <td>FINDINGS: Lungs/Pleura: No focal opacities evi...</td>\n",
       "      <td>CLINICAL HISTORY: Chest pain. \\n\\n</td>\n",
       "      <td>EXAM: CHEST RADIOGRAPHY EXAM DATE: 04/02/2018 ...</td>\n",
       "      <td>IMPRESSION: Normal single view chest.</td>\n",
       "    </tr>\n",
       "    <tr>\n",
       "      <th>952</th>\n",
       "      <td>985</td>\n",
       "      <td>EXAM: XR CHEST 1 VW HISTORY: chest pain TECHNI...</td>\n",
       "      <td>FINDINGS: Lines and tubes: None Cardiomediasti...</td>\n",
       "      <td>HISTORY: chest pain \\n\\n</td>\n",
       "      <td>EXAM: XR CHEST 1 VW\\n\\nTECHNIQUE: Chest AP vie...</td>\n",
       "      <td>IMPRESSION: No acute cardiopulmonary process D...</td>\n",
       "    </tr>\n",
       "    <tr>\n",
       "      <th>953</th>\n",
       "      <td>986</td>\n",
       "      <td>Exam: XR CHEST AP OR PA ONLY INDICATION: Dyspn...</td>\n",
       "      <td>FINDINGS: Persistent mild pulmonary vascular c...</td>\n",
       "      <td>INDICATION: Dyspnea \\n\\n</td>\n",
       "      <td>Exam: XR CHEST AP OR PA ONLY\\n\\nTECHNIQUE: Sin...</td>\n",
       "      <td>IMPRESSION: 1. Persistent mild pulmonary vascu...</td>\n",
       "    </tr>\n",
       "  </tbody>\n",
       "</table>\n",
       "<p>950 rows × 6 columns</p>\n",
       "</div>"
      ],
      "text/plain": [
       "     Unnamed: 0                                         ReportText  \\\n",
       "0             0  EXAM: CHEST RADIOGRAPHY EXAM DATE: 06/01/2019 ...   \n",
       "1             1  EXAM: CHEST RADIOGRAPHY EXAM DATE: 05/23/2020 ...   \n",
       "2             2  EXAM: CHEST RADIOGRAPHY EXAM DATE: 12/13/2019 ...   \n",
       "3             3  Exam: - CHEST-PORTABLE History: Chest pain Com...   \n",
       "4             4  EXAM: CHEST RADIOGRAPHY EXAM DATE: 06/17/2021 ...   \n",
       "..          ...                                                ...   \n",
       "949         982  CHEST RADIOGRAPH: PA and Lateral views HISTORY...   \n",
       "950         983  EXAM DESCRIPTION: X-ray single view chest. CLI...   \n",
       "951         984  EXAM: CHEST RADIOGRAPHY EXAM DATE: 04/02/2018 ...   \n",
       "952         985  EXAM: XR CHEST 1 VW HISTORY: chest pain TECHNI...   \n",
       "953         986  Exam: XR CHEST AP OR PA ONLY INDICATION: Dyspn...   \n",
       "\n",
       "                                              findings  \\\n",
       "0    FINDINGS: Lungs/Pleura: No focal opacities evi...   \n",
       "1    FINDINGS: Lungs/Pleura: No focal opacities evi...   \n",
       "2    FINDINGS: Lungs/Pleura: No focal opacities evi...   \n",
       "3    Findings: Heart size appears normal. Lungs cle...   \n",
       "4    FINDINGS: Lungs/Pleura: No focal opacities evi...   \n",
       "..                                                 ...   \n",
       "949  LUNGS: The lung fields demonstrate normal degr...   \n",
       "950  FINDINGS: The lungs are well expanded and are ...   \n",
       "951  FINDINGS: Lungs/Pleura: No focal opacities evi...   \n",
       "952  FINDINGS: Lines and tubes: None Cardiomediasti...   \n",
       "953  FINDINGS: Persistent mild pulmonary vascular c...   \n",
       "\n",
       "                                          clinicaldata  \\\n",
       "0                        CLINICAL HISTORY: Cough. \\n\\n   \n",
       "1                   CLINICAL HISTORY: CHEST PAIN. \\n\\n   \n",
       "2                   CLINICAL HISTORY: CHEST PAIN. \\n\\n   \n",
       "3                             History: Chest pain \\n\\n   \n",
       "4    CLINICAL HISTORY: CHEST PAIN, SHORTNESS OF BRE...   \n",
       "..                                                 ...   \n",
       "949                            HISTORY: R05 Cough \\n\\n   \n",
       "950          CLINICAL HISTORY: 68 years Male, SOB \\n\\n   \n",
       "951                 CLINICAL HISTORY: Chest pain. \\n\\n   \n",
       "952                           HISTORY: chest pain \\n\\n   \n",
       "953                           INDICATION: Dyspnea \\n\\n   \n",
       "\n",
       "                                              ExamName  \\\n",
       "0    EXAM: CHEST RADIOGRAPHY EXAM DATE: 06/01/2019 ...   \n",
       "1    EXAM: CHEST RADIOGRAPHY EXAM DATE: 05/23/2020 ...   \n",
       "2    EXAM: CHEST RADIOGRAPHY EXAM DATE: 12/13/2019 ...   \n",
       "3           Exam: - CHEST-PORTABLE\\n\\nComparison: None   \n",
       "4    EXAM: CHEST RADIOGRAPHY EXAM DATE: 06/17/2021 ...   \n",
       "..                                                 ...   \n",
       "949  CHEST RADIOGRAPH: PA and Lateral views\\n\\nCOMP...   \n",
       "950  EXAM DESCRIPTION: X-ray single view chest.\\n\\n...   \n",
       "951  EXAM: CHEST RADIOGRAPHY EXAM DATE: 04/02/2018 ...   \n",
       "952  EXAM: XR CHEST 1 VW\\n\\nTECHNIQUE: Chest AP vie...   \n",
       "953  Exam: XR CHEST AP OR PA ONLY\\n\\nTECHNIQUE: Sin...   \n",
       "\n",
       "                                            impression  \n",
       "0        IMPRESSION: Normal 2-view chest radiography.   \n",
       "1    IMPRESSION: No acute cardiopulmonary abnormali...  \n",
       "2       IMPRESSION: No acute cardiopulmonary process.   \n",
       "3                              Impression: Lungs clear  \n",
       "4               IMPRESSION: Normal single view chest.   \n",
       "..                                                 ...  \n",
       "949            IMPRESSION: No acute pulmonary disease.  \n",
       "950  IMPRESSION: No evidence of acute intrathoracic...  \n",
       "951             IMPRESSION: Normal single view chest.   \n",
       "952  IMPRESSION: No acute cardiopulmonary process D...  \n",
       "953  IMPRESSION: 1. Persistent mild pulmonary vascu...  \n",
       "\n",
       "[950 rows x 6 columns]"
      ]
     },
     "execution_count": 102,
     "metadata": {},
     "output_type": "execute_result"
    }
   ],
   "source": [
    "file.dropna()"
   ]
  },
  {
   "cell_type": "code",
   "execution_count": 103,
   "id": "61c4aa22",
   "metadata": {},
   "outputs": [
    {
     "name": "stdout",
     "output_type": "stream",
     "text": [
      "954\n",
      "954\n",
      "954\n",
      "950\n"
     ]
    }
   ],
   "source": [
    "#files to do idf on\n",
    "exam_names = file['ExamName'].dropna().tolist()\n",
    "print(len(exam_names))\n",
    "\n",
    "impressions= file['impression'].dropna().tolist()\n",
    "print(len(impressions))\n",
    "\n",
    "findings = file['findings'].dropna().tolist()\n",
    "print(len(findings))\n",
    "\n",
    "clinical_data = file['clinicaldata'].dropna().tolist()\n",
    "print(len(clinical_data))\n",
    "\n"
   ]
  },
  {
   "cell_type": "code",
   "execution_count": null,
   "id": "121de177",
   "metadata": {},
   "outputs": [],
   "source": []
  },
  {
   "cell_type": "code",
   "execution_count": 104,
   "id": "1132266f",
   "metadata": {},
   "outputs": [],
   "source": [
    "#list of corpus\n",
    "corpus = exam_names + impressions + findings + clinical_data\n"
   ]
  },
  {
   "cell_type": "code",
   "execution_count": 105,
   "id": "71bbcf91",
   "metadata": {},
   "outputs": [
    {
     "data": {
      "text/plain": [
       "array(['00', '01', '02', ..., 'your', 'zip', 'zone'], dtype=object)"
      ]
     },
     "execution_count": 105,
     "metadata": {},
     "output_type": "execute_result"
    }
   ],
   "source": [
    "\n",
    "vectorizer = TfidfVectorizer()\n",
    "X = vectorizer.fit_transform(corpus)\n",
    "vectorizer.get_feature_names_out()"
   ]
  },
  {
   "cell_type": "code",
   "execution_count": 106,
   "id": "33c4972f",
   "metadata": {},
   "outputs": [
    {
     "name": "stdout",
     "output_type": "stream",
     "text": [
      "(3812, 1083)\n"
     ]
    }
   ],
   "source": [
    "print(X.shape)"
   ]
  },
  {
   "cell_type": "code",
   "execution_count": 107,
   "id": "0c1db4c2",
   "metadata": {},
   "outputs": [
    {
     "name": "stdout",
     "output_type": "stream",
     "text": [
      "[[0.         0.32614224 0.         ... 0.         0.         0.        ]\n",
      " [0.         0.         0.         ... 0.         0.         0.        ]\n",
      " [0.         0.         0.         ... 0.         0.         0.        ]\n",
      " ...\n",
      " [0.         0.         0.         ... 0.         0.         0.        ]\n",
      " [0.         0.         0.         ... 0.         0.         0.        ]\n",
      " [0.         0.         0.         ... 0.         0.         0.        ]]\n"
     ]
    }
   ],
   "source": [
    "print(X.todense())"
   ]
  },
  {
   "cell_type": "code",
   "execution_count": 108,
   "id": "f3422e74",
   "metadata": {},
   "outputs": [
    {
     "data": {
      "text/plain": [
       "array([[0.        , 0.32614224, 0.        , ..., 0.        , 0.        ,\n",
       "        0.        ],\n",
       "       [0.        , 0.        , 0.        , ..., 0.        , 0.        ,\n",
       "        0.        ],\n",
       "       [0.        , 0.        , 0.        , ..., 0.        , 0.        ,\n",
       "        0.        ],\n",
       "       ...,\n",
       "       [0.        , 0.        , 0.        , ..., 0.        , 0.        ,\n",
       "        0.        ],\n",
       "       [0.        , 0.        , 0.        , ..., 0.        , 0.        ,\n",
       "        0.        ],\n",
       "       [0.        , 0.        , 0.        , ..., 0.        , 0.        ,\n",
       "        0.        ]])"
      ]
     },
     "execution_count": 108,
     "metadata": {},
     "output_type": "execute_result"
    }
   ],
   "source": [
    "X.toarray()"
   ]
  },
  {
   "cell_type": "code",
   "execution_count": 109,
   "id": "81807453",
   "metadata": {},
   "outputs": [],
   "source": [
    "import numpy as np"
   ]
  },
  {
   "cell_type": "code",
   "execution_count": 110,
   "id": "75fd9568",
   "metadata": {},
   "outputs": [],
   "source": [
    "from sklearn.manifold import TSNE"
   ]
  },
  {
   "cell_type": "code",
   "execution_count": 111,
   "id": "6763741c",
   "metadata": {},
   "outputs": [],
   "source": [
    "import matplotlib.pyplot as plt"
   ]
  },
  {
   "cell_type": "code",
   "execution_count": 112,
   "id": "79d2be77",
   "metadata": {},
   "outputs": [],
   "source": [
    "\n",
    "X_embedded = TSNE(n_components = 2, learning_rate='auto', init='random', perplexity=3).fit_transform(X)\n",
    "    \n"
   ]
  },
  {
   "cell_type": "code",
   "execution_count": 113,
   "id": "703be498",
   "metadata": {},
   "outputs": [
    {
     "data": {
      "text/plain": [
       "array([[-53.136494, -16.427057],\n",
       "       [-73.37543 , -26.126307],\n",
       "       [-61.50919 , -22.148573],\n",
       "       ...,\n",
       "       [-14.720051, -39.439224],\n",
       "       [ 36.82493 , -49.525463],\n",
       "       [ 23.91133 , -97.24984 ]], dtype=float32)"
      ]
     },
     "execution_count": 113,
     "metadata": {},
     "output_type": "execute_result"
    }
   ],
   "source": [
    "X_embedded"
   ]
  },
  {
   "cell_type": "code",
   "execution_count": 114,
   "id": "754081fe",
   "metadata": {},
   "outputs": [],
   "source": [
    "def color_func(count):\n",
    "    if 954 >= count > 0:\n",
    "        return ('blue', 'Exam Name')\n",
    "    elif 1908 >= count > 954:\n",
    "        return ('red', 'Impression')\n",
    "    elif 2862 >= count > 1908:\n",
    "        return ('green', 'Findings')\n",
    "    elif 3812 >= count > 2862:\n",
    "        return ('yellow', 'Clinical Data')\n",
    "\n",
    "    "
   ]
  },
  {
   "cell_type": "code",
   "execution_count": 115,
   "id": "e5b40eb0",
   "metadata": {},
   "outputs": [
    {
     "data": {
      "image/png": "[encoded data removed]",
      "text/plain": [
       "<Figure size 640x480 with 1 Axes>"
      ]
     },
     "metadata": {},
     "output_type": "display_data"
    }
   ],
   "source": [
    "num = 1\n",
    "for i in X_embedded:\n",
    "    color, name = color_func(num)\n",
    "    plt.scatter(i[0], i[1], c = color, label = name)\n",
    "    num += 1\n",
    "# plt.legend()\n",
    "#issue with legend\n",
    "#Blue is Exam Name\n",
    "#Red is Impression\n",
    "#Green is findings\n",
    "#Yellow is Clinical Data"
   ]
  }
 ],
 "metadata": {
  "kernelspec": {
   "display_name": "Python 3 (ipykernel)",
   "language": "python",
   "name": "python3"
  },
  "language_info": {
   "codemirror_mode": {
    "name": "ipython",
    "version": 3
   },
   "file_extension": ".py",
   "mimetype": "text/x-python",
   "name": "python",
   "nbconvert_exporter": "python",
   "pygments_lexer": "ipython3",
   "version": "3.9.13"
  }
 },
 "nbformat": 4,
 "nbformat_minor": 5
}
