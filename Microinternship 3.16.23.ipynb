{
 "cells": [
  {
   "cell_type": "code",
   "execution_count": 3,
   "id": "b8cd91a3",
   "metadata": {},
   "outputs": [],
   "source": [
    "#importing modules\n",
    "import nltk\n",
    "from nltk.corpus import stopwords\n",
    "from gensim.models import Word2Vec,KeyedVectors\n",
    "from gensim.test.utils import datapath\n",
    "import re\n",
    "import unicodedata\n",
    "from tqdm import tqdm\n",
    "import gensim\n",
    "import multiprocessing\n",
    "import random\n",
    "import pandas as pd"
   ]
  },
  {
   "cell_type": "code",
   "execution_count": 4,
   "id": "e651a99c",
   "metadata": {},
   "outputs": [],
   "source": [
    "#file I need\n",
    "file = ('C:\\\\Users\\\\mjjyo\\\\OneDrive\\\\Desktop\\\\openavenuesmicrointernship\\\\open_ave_data.csv')\n",
    "file = pd.read_csv(file)"
   ]
  },
  {
   "cell_type": "code",
   "execution_count": 5,
   "id": "8d0daa49",
   "metadata": {},
   "outputs": [],
   "source": [
    "#cleaning the file. \n",
    "#dropping unneeded column\n",
    "file.drop('Unnamed: 0', axis=1)\n",
    "#making all lowercase\n",
    "file = file.apply(lambda x: x.astype(str).str.lower())\n",
    "#getting rid of labels within data\n",
    "file['findings'] = file['findings'].str.replace('findings', '')\n",
    "file['clinicaldata'] = file['clinicaldata'].str.replace('clinical', '')\n",
    "file['clinicaldata'] = file['clinicaldata'].str.replace('indication', '')\n",
    "file['clinicaldata'] = file['clinicaldata'].str.replace('history', '')\n",
    "file['clinicaldata'] = file['clinicaldata'].str.replace('data', '')\n",
    "file['clinicaldata'] = file['clinicaldata'].str.replace('information', '')\n",
    "file['ExamName'] = file['ExamName'].str.replace('exam', '')\n",
    "file['impression'] = file['impression'].str.replace('impression', '')"
   ]
  },
  {
   "cell_type": "code",
   "execution_count": 7,
   "id": "f41e5428",
   "metadata": {},
   "outputs": [
    {
     "data": {
      "text/html": [
       "<div>\n",
       "<style scoped>\n",
       "    .dataframe tbody tr th:only-of-type {\n",
       "        vertical-align: middle;\n",
       "    }\n",
       "\n",
       "    .dataframe tbody tr th {\n",
       "        vertical-align: top;\n",
       "    }\n",
       "\n",
       "    .dataframe thead th {\n",
       "        text-align: right;\n",
       "    }\n",
       "</style>\n",
       "<table border=\"1\" class=\"dataframe\">\n",
       "  <thead>\n",
       "    <tr style=\"text-align: right;\">\n",
       "      <th></th>\n",
       "      <th>Unnamed: 0</th>\n",
       "      <th>ReportText</th>\n",
       "      <th>findings</th>\n",
       "      <th>clinicaldata</th>\n",
       "      <th>ExamName</th>\n",
       "      <th>impression</th>\n",
       "    </tr>\n",
       "  </thead>\n",
       "  <tbody>\n",
       "    <tr>\n",
       "      <th>0</th>\n",
       "      <td>0</td>\n",
       "      <td>exam: chest radiography exam date: 06/01/2019 ...</td>\n",
       "      <td>: lungs/pleura: no focal opacities evident. no...</td>\n",
       "      <td>: cough. \\n\\n</td>\n",
       "      <td>: chest radiography  date: 06/01/2019 08:30 pm...</td>\n",
       "      <td>: normal 2-view chest radiography.</td>\n",
       "    </tr>\n",
       "    <tr>\n",
       "      <th>1</th>\n",
       "      <td>1</td>\n",
       "      <td>exam: chest radiography exam date: 05/23/2020 ...</td>\n",
       "      <td>: lungs/pleura: no focal opacities evident. no...</td>\n",
       "      <td>: chest pain. \\n\\n</td>\n",
       "      <td>: chest radiography  date: 05/23/2020 12:03 pm...</td>\n",
       "      <td>: no acute cardiopulmonary abnormality.</td>\n",
       "    </tr>\n",
       "    <tr>\n",
       "      <th>2</th>\n",
       "      <td>2</td>\n",
       "      <td>exam: chest radiography exam date: 12/13/2019 ...</td>\n",
       "      <td>: lungs/pleura: no focal opacities evident. no...</td>\n",
       "      <td>: chest pain. \\n\\n</td>\n",
       "      <td>: chest radiography  date: 12/13/2019 03:40 pm...</td>\n",
       "      <td>: no acute cardiopulmonary process.</td>\n",
       "    </tr>\n",
       "    <tr>\n",
       "      <th>3</th>\n",
       "      <td>3</td>\n",
       "      <td>exam: - chest-portable history: chest pain com...</td>\n",
       "      <td>: heart size appears normal. lungs clear. \\n\\n</td>\n",
       "      <td>: chest pain \\n\\n</td>\n",
       "      <td>: - chest-portable\\n\\ncomparison: none</td>\n",
       "      <td>: lungs clear</td>\n",
       "    </tr>\n",
       "    <tr>\n",
       "      <th>4</th>\n",
       "      <td>4</td>\n",
       "      <td>exam: chest radiography exam date: 06/17/2021 ...</td>\n",
       "      <td>: lungs/pleura: no focal opacities evident. no...</td>\n",
       "      <td>: chest pain, shortness of breath. \\n\\n</td>\n",
       "      <td>: chest radiography  date: 06/17/2021 03:09 pm...</td>\n",
       "      <td>: normal single view chest.</td>\n",
       "    </tr>\n",
       "    <tr>\n",
       "      <th>...</th>\n",
       "      <td>...</td>\n",
       "      <td>...</td>\n",
       "      <td>...</td>\n",
       "      <td>...</td>\n",
       "      <td>...</td>\n",
       "      <td>...</td>\n",
       "    </tr>\n",
       "    <tr>\n",
       "      <th>949</th>\n",
       "      <td>982</td>\n",
       "      <td>chest radiograph: pa and lateral views history...</td>\n",
       "      <td>lungs: the lung fields demonstrate normal degr...</td>\n",
       "      <td>: r05 cough \\n\\n</td>\n",
       "      <td>chest radiograph: pa and lateral views\\n\\ncomp...</td>\n",
       "      <td>: no acute pulmonary disease.</td>\n",
       "    </tr>\n",
       "    <tr>\n",
       "      <th>950</th>\n",
       "      <td>983</td>\n",
       "      <td>exam description: x-ray single view chest. cli...</td>\n",
       "      <td>: the lungs are well expanded and are clear. t...</td>\n",
       "      <td>: 68 years male, sob \\n\\n</td>\n",
       "      <td>description: x-ray single view chest.\\n\\ntech...</td>\n",
       "      <td>: no evidence of acute intrathoracic disease. ...</td>\n",
       "    </tr>\n",
       "    <tr>\n",
       "      <th>951</th>\n",
       "      <td>984</td>\n",
       "      <td>exam: chest radiography exam date: 04/02/2018 ...</td>\n",
       "      <td>: lungs/pleura: no focal opacities evident. no...</td>\n",
       "      <td>: chest pain. \\n\\n</td>\n",
       "      <td>: chest radiography  date: 04/02/2018 10:49 pm...</td>\n",
       "      <td>: normal single view chest.</td>\n",
       "    </tr>\n",
       "    <tr>\n",
       "      <th>952</th>\n",
       "      <td>985</td>\n",
       "      <td>exam: xr chest 1 vw history: chest pain techni...</td>\n",
       "      <td>: lines and tubes: none cardiomediastinal: the...</td>\n",
       "      <td>: chest pain \\n\\n</td>\n",
       "      <td>: xr chest 1 vw\\n\\ntechnique: chest ap view(s)...</td>\n",
       "      <td>: no acute cardiopulmonary process dictated by...</td>\n",
       "    </tr>\n",
       "    <tr>\n",
       "      <th>953</th>\n",
       "      <td>986</td>\n",
       "      <td>exam: xr chest ap or pa only indication: dyspn...</td>\n",
       "      <td>: persistent mild pulmonary vascular congestio...</td>\n",
       "      <td>: dyspnea \\n\\n</td>\n",
       "      <td>: xr chest ap or pa only\\n\\ntechnique: single ...</td>\n",
       "      <td>: 1. persistent mild pulmonary vascular conges...</td>\n",
       "    </tr>\n",
       "  </tbody>\n",
       "</table>\n",
       "<p>954 rows × 6 columns</p>\n",
       "</div>"
      ],
      "text/plain": [
       "    Unnamed: 0                                         ReportText  \\\n",
       "0            0  exam: chest radiography exam date: 06/01/2019 ...   \n",
       "1            1  exam: chest radiography exam date: 05/23/2020 ...   \n",
       "2            2  exam: chest radiography exam date: 12/13/2019 ...   \n",
       "3            3  exam: - chest-portable history: chest pain com...   \n",
       "4            4  exam: chest radiography exam date: 06/17/2021 ...   \n",
       "..         ...                                                ...   \n",
       "949        982  chest radiograph: pa and lateral views history...   \n",
       "950        983  exam description: x-ray single view chest. cli...   \n",
       "951        984  exam: chest radiography exam date: 04/02/2018 ...   \n",
       "952        985  exam: xr chest 1 vw history: chest pain techni...   \n",
       "953        986  exam: xr chest ap or pa only indication: dyspn...   \n",
       "\n",
       "                                              findings  \\\n",
       "0    : lungs/pleura: no focal opacities evident. no...   \n",
       "1    : lungs/pleura: no focal opacities evident. no...   \n",
       "2    : lungs/pleura: no focal opacities evident. no...   \n",
       "3       : heart size appears normal. lungs clear. \\n\\n   \n",
       "4    : lungs/pleura: no focal opacities evident. no...   \n",
       "..                                                 ...   \n",
       "949  lungs: the lung fields demonstrate normal degr...   \n",
       "950  : the lungs are well expanded and are clear. t...   \n",
       "951  : lungs/pleura: no focal opacities evident. no...   \n",
       "952  : lines and tubes: none cardiomediastinal: the...   \n",
       "953  : persistent mild pulmonary vascular congestio...   \n",
       "\n",
       "                                 clinicaldata  \\\n",
       "0                               : cough. \\n\\n   \n",
       "1                          : chest pain. \\n\\n   \n",
       "2                          : chest pain. \\n\\n   \n",
       "3                           : chest pain \\n\\n   \n",
       "4     : chest pain, shortness of breath. \\n\\n   \n",
       "..                                        ...   \n",
       "949                          : r05 cough \\n\\n   \n",
       "950                 : 68 years male, sob \\n\\n   \n",
       "951                        : chest pain. \\n\\n   \n",
       "952                         : chest pain \\n\\n   \n",
       "953                            : dyspnea \\n\\n   \n",
       "\n",
       "                                              ExamName  \\\n",
       "0    : chest radiography  date: 06/01/2019 08:30 pm...   \n",
       "1    : chest radiography  date: 05/23/2020 12:03 pm...   \n",
       "2    : chest radiography  date: 12/13/2019 03:40 pm...   \n",
       "3               : - chest-portable\\n\\ncomparison: none   \n",
       "4    : chest radiography  date: 06/17/2021 03:09 pm...   \n",
       "..                                                 ...   \n",
       "949  chest radiograph: pa and lateral views\\n\\ncomp...   \n",
       "950   description: x-ray single view chest.\\n\\ntech...   \n",
       "951  : chest radiography  date: 04/02/2018 10:49 pm...   \n",
       "952  : xr chest 1 vw\\n\\ntechnique: chest ap view(s)...   \n",
       "953  : xr chest ap or pa only\\n\\ntechnique: single ...   \n",
       "\n",
       "                                            impression  \n",
       "0                  : normal 2-view chest radiography.   \n",
       "1             : no acute cardiopulmonary abnormality.   \n",
       "2                 : no acute cardiopulmonary process.   \n",
       "3                                        : lungs clear  \n",
       "4                         : normal single view chest.   \n",
       "..                                                 ...  \n",
       "949                      : no acute pulmonary disease.  \n",
       "950  : no evidence of acute intrathoracic disease. ...  \n",
       "951                       : normal single view chest.   \n",
       "952  : no acute cardiopulmonary process dictated by...  \n",
       "953  : 1. persistent mild pulmonary vascular conges...  \n",
       "\n",
       "[954 rows x 6 columns]"
      ]
     },
     "execution_count": 7,
     "metadata": {},
     "output_type": "execute_result"
    }
   ],
   "source": [
    "file.dropna()"
   ]
  },
  {
   "cell_type": "code",
   "execution_count": 9,
   "id": "5f099096",
   "metadata": {},
   "outputs": [],
   "source": [
    "#files to do vector on\n",
    "exam_names = file['ExamName'].dropna().tolist()\n",
    "\n",
    "impressions= file['impression'].dropna().tolist()\n",
    "\n",
    "findings = file['findings'].dropna().tolist()\n",
    "\n",
    "clinical_data = file['clinicaldata'].dropna().tolist()\n"
   ]
  },
  {
   "cell_type": "code",
   "execution_count": 27,
   "id": "02871d40",
   "metadata": {},
   "outputs": [],
   "source": [
    "#making corpus\n",
    "corpus = exam_names + impressions + findings + clinical_data\n"
   ]
  },
  {
   "cell_type": "code",
   "execution_count": 28,
   "id": "44c71995",
   "metadata": {},
   "outputs": [],
   "source": [
    "def clean_data(w):\n",
    "    w = w.lower()\n",
    "    w=re.sub(r'[^\\w\\s]','',w)\n",
    "    w=re.sub(r\"([0-9])\", r\" \",w)\n",
    "    words = w.split() \n",
    "    clean_words = [word for word in words if (word not in stopwords_list) and len(word) > 2]\n",
    "    return \" \".join(clean_words)"
   ]
  },
  {
   "cell_type": "code",
   "execution_count": 31,
   "id": "1869052b",
   "metadata": {},
   "outputs": [],
   "source": [
    "stopwords_list=stopwords.words('english')\n",
    "adjusted_corpus = []\n",
    "#cleaning data and making it so the corpus is a list of lists of words\n",
    "for i in corpus:\n",
    "    cleaned = clean_data(i)\n",
    "    cleaned = cleaned.split(' ')\n",
    "    adjusted_corpus.append(cleaned)\n"
   ]
  },
  {
   "cell_type": "code",
   "execution_count": 33,
   "id": "386afb14",
   "metadata": {},
   "outputs": [],
   "source": [
    "#word2vec model\n",
    "cores= multiprocessing.cpu_count()\n",
    "model = Word2Vec(min_count=5,window=5,workers=cores-1,max_vocab_size=100000)"
   ]
  },
  {
   "cell_type": "code",
   "execution_count": 34,
   "id": "fbd683af",
   "metadata": {},
   "outputs": [],
   "source": [
    "model.build_vocab(adjusted_corpus)"
   ]
  },
  {
   "cell_type": "code",
   "execution_count": null,
   "id": "12e25402",
   "metadata": {},
   "outputs": [],
   "source": []
  },
  {
   "cell_type": "code",
   "execution_count": 43,
   "id": "c4391d42",
   "metadata": {},
   "outputs": [],
   "source": [
    "model.build_vocab(adjusted_corpus, update=True)"
   ]
  },
  {
   "cell_type": "code",
   "execution_count": 46,
   "id": "c5b08926",
   "metadata": {},
   "outputs": [
    {
     "data": {
      "text/plain": [
       "(743239, 1566350)"
      ]
     },
     "execution_count": 46,
     "metadata": {},
     "output_type": "execute_result"
    }
   ],
   "source": [
    "model.train(adjusted_corpus, total_examples=model.corpus_count,epochs=50)"
   ]
  },
  {
   "cell_type": "code",
   "execution_count": 49,
   "id": "2cc4328c",
   "metadata": {},
   "outputs": [],
   "source": [
    "path = r\"C:\\Users\\mjjyo\\OneDrive\\Desktop\\openavenuesmicrointernship\\word2vecmodel\""
   ]
  },
  {
   "cell_type": "code",
   "execution_count": 50,
   "id": "614c5f22",
   "metadata": {},
   "outputs": [],
   "source": [
    "model.save(path)\n"
   ]
  },
  {
   "cell_type": "code",
   "execution_count": 51,
   "id": "3b6cedaa",
   "metadata": {},
   "outputs": [],
   "source": [
    "trained_model = gensim.models.Word2Vec.load(path)"
   ]
  },
  {
   "cell_type": "code",
   "execution_count": 60,
   "id": "5ed3f374",
   "metadata": {},
   "outputs": [
    {
     "data": {
      "text/plain": [
       "[('sent', 0.7184100151062012),\n",
       " ('review', 0.7062097787857056),\n",
       " ('date', 0.661436140537262),\n",
       " ('ination', 0.6530739068984985),\n",
       " ('routine', 0.6444733738899231)]"
      ]
     },
     "execution_count": 60,
     "metadata": {},
     "output_type": "execute_result"
    }
   ],
   "source": [
    "key = 'chest'\n",
    "trained_model.wv.most_similar(positive=[key],topn=5)"
   ]
  },
  {
   "cell_type": "code",
   "execution_count": 61,
   "id": "3eb039de",
   "metadata": {},
   "outputs": [
    {
     "data": {
      "text/plain": [
       "0.6444733"
      ]
     },
     "execution_count": 61,
     "metadata": {},
     "output_type": "execute_result"
    }
   ],
   "source": [
    "trained_model.wv.similarity('chest', 'routine')\n"
   ]
  },
  {
   "cell_type": "code",
   "execution_count": 63,
   "id": "bebe98cb",
   "metadata": {},
   "outputs": [
    {
     "data": {
      "text/plain": [
       "'breathing'"
      ]
     },
     "execution_count": 63,
     "metadata": {},
     "output_type": "execute_result"
    }
   ],
   "source": [
    "trained_model.wv.doesnt_match(['radiography','chest','breathing'])"
   ]
  },
  {
   "cell_type": "code",
   "execution_count": 68,
   "id": "baae8762",
   "metadata": {},
   "outputs": [
    {
     "data": {
      "text/plain": [
       "[('appa', 0.6259362101554871),\n",
       " ('routine', 0.6186726093292236),\n",
       " ('single', 0.524420440196991),\n",
       " ('lat', 0.5034644603729248),\n",
       " ('portably', 0.49046167731285095)]"
      ]
     },
     "execution_count": 68,
     "metadata": {},
     "output_type": "execute_result"
    }
   ],
   "source": [
    "trained_model.wv.most_similar(positive=\n",
    "                           ['radiography', 'breath'],\n",
    "                           negative=['breathing'], topn=5)"
   ]
  },
  {
   "cell_type": "code",
   "execution_count": null,
   "id": "709e1e58",
   "metadata": {},
   "outputs": [],
   "source": []
  },
  {
   "cell_type": "code",
   "execution_count": null,
   "id": "a377bc27",
   "metadata": {},
   "outputs": [],
   "source": []
  }
 ],
 "metadata": {
  "kernelspec": {
   "display_name": "Python 3 (ipykernel)",
   "language": "python",
   "name": "python3"
  },
  "language_info": {
   "codemirror_mode": {
    "name": "ipython",
    "version": 3
   },
   "file_extension": ".py",
   "mimetype": "text/x-python",
   "name": "python",
   "nbconvert_exporter": "python",
   "pygments_lexer": "ipython3",
   "version": "3.9.13"
  }
 },
 "nbformat": 4,
 "nbformat_minor": 5
}
