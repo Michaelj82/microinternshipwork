{
 "cells": [
  {
   "cell_type": "code",
   "execution_count": 1,
   "id": "b8cd91a3",
   "metadata": {},
   "outputs": [],
   "source": [
    "#importing modules\n",
    "import nltk\n",
    "from nltk.corpus import stopwords\n",
    "from gensim.models import Word2Vec,KeyedVectors\n",
    "from gensim.test.utils import datapath\n",
    "import re\n",
    "import unicodedata\n",
    "from tqdm import tqdm\n",
    "import gensim\n",
    "import multiprocessing\n",
    "import random\n",
    "import pandas as pd\n",
    "import numpy as np"
   ]
  },
  {
   "cell_type": "code",
   "execution_count": 2,
   "id": "e651a99c",
   "metadata": {},
   "outputs": [],
   "source": [
    "#file I need\n",
    "file = ('C:\\\\Users\\\\mjjyo\\\\OneDrive\\\\Desktop\\\\openavenuesmicrointernship\\\\open_ave_data.csv')\n",
    "file = pd.read_csv(file)"
   ]
  },
  {
   "cell_type": "code",
   "execution_count": 3,
   "id": "8d0daa49",
   "metadata": {},
   "outputs": [],
   "source": [
    "#cleaning the file. \n",
    "#dropping unneeded column\n",
    "file.drop('Unnamed: 0', axis=1)\n",
    "#making all lowercase\n",
    "file = file.apply(lambda x: x.astype(str).str.lower())\n",
    "#getting rid of labels within data\n",
    "file['findings'] = file['findings'].str.replace('findings', '')\n",
    "file['clinicaldata'] = file['clinicaldata'].str.replace('clinical', '')\n",
    "file['clinicaldata'] = file['clinicaldata'].str.replace('indication', '')\n",
    "file['clinicaldata'] = file['clinicaldata'].str.replace('history', '')\n",
    "file['clinicaldata'] = file['clinicaldata'].str.replace('data', '')\n",
    "file['clinicaldata'] = file['clinicaldata'].str.replace('information', '')\n",
    "file['ExamName'] = file['ExamName'].str.replace('exam', '')\n",
    "file['impression'] = file['impression'].str.replace('impression', '')"
   ]
  },
  {
   "cell_type": "code",
   "execution_count": 4,
   "id": "f41e5428",
   "metadata": {},
   "outputs": [
    {
     "data": {
      "text/html": [
       "<div>\n",
       "<style scoped>\n",
       "    .dataframe tbody tr th:only-of-type {\n",
       "        vertical-align: middle;\n",
       "    }\n",
       "\n",
       "    .dataframe tbody tr th {\n",
       "        vertical-align: top;\n",
       "    }\n",
       "\n",
       "    .dataframe thead th {\n",
       "        text-align: right;\n",
       "    }\n",
       "</style>\n",
       "<table border=\"1\" class=\"dataframe\">\n",
       "  <thead>\n",
       "    <tr style=\"text-align: right;\">\n",
       "      <th></th>\n",
       "      <th>Unnamed: 0</th>\n",
       "      <th>ReportText</th>\n",
       "      <th>findings</th>\n",
       "      <th>clinicaldata</th>\n",
       "      <th>ExamName</th>\n",
       "      <th>impression</th>\n",
       "    </tr>\n",
       "  </thead>\n",
       "  <tbody>\n",
       "    <tr>\n",
       "      <th>0</th>\n",
       "      <td>0</td>\n",
       "      <td>exam: chest radiography exam date: 06/01/2019 ...</td>\n",
       "      <td>: lungs/pleura: no focal opacities evident. no...</td>\n",
       "      <td>: cough. \\n\\n</td>\n",
       "      <td>: chest radiography  date: 06/01/2019 08:30 pm...</td>\n",
       "      <td>: normal 2-view chest radiography.</td>\n",
       "    </tr>\n",
       "    <tr>\n",
       "      <th>1</th>\n",
       "      <td>1</td>\n",
       "      <td>exam: chest radiography exam date: 05/23/2020 ...</td>\n",
       "      <td>: lungs/pleura: no focal opacities evident. no...</td>\n",
       "      <td>: chest pain. \\n\\n</td>\n",
       "      <td>: chest radiography  date: 05/23/2020 12:03 pm...</td>\n",
       "      <td>: no acute cardiopulmonary abnormality.</td>\n",
       "    </tr>\n",
       "    <tr>\n",
       "      <th>2</th>\n",
       "      <td>2</td>\n",
       "      <td>exam: chest radiography exam date: 12/13/2019 ...</td>\n",
       "      <td>: lungs/pleura: no focal opacities evident. no...</td>\n",
       "      <td>: chest pain. \\n\\n</td>\n",
       "      <td>: chest radiography  date: 12/13/2019 03:40 pm...</td>\n",
       "      <td>: no acute cardiopulmonary process.</td>\n",
       "    </tr>\n",
       "    <tr>\n",
       "      <th>3</th>\n",
       "      <td>3</td>\n",
       "      <td>exam: - chest-portable history: chest pain com...</td>\n",
       "      <td>: heart size appears normal. lungs clear. \\n\\n</td>\n",
       "      <td>: chest pain \\n\\n</td>\n",
       "      <td>: - chest-portable\\n\\ncomparison: none</td>\n",
       "      <td>: lungs clear</td>\n",
       "    </tr>\n",
       "    <tr>\n",
       "      <th>4</th>\n",
       "      <td>4</td>\n",
       "      <td>exam: chest radiography exam date: 06/17/2021 ...</td>\n",
       "      <td>: lungs/pleura: no focal opacities evident. no...</td>\n",
       "      <td>: chest pain, shortness of breath. \\n\\n</td>\n",
       "      <td>: chest radiography  date: 06/17/2021 03:09 pm...</td>\n",
       "      <td>: normal single view chest.</td>\n",
       "    </tr>\n",
       "    <tr>\n",
       "      <th>...</th>\n",
       "      <td>...</td>\n",
       "      <td>...</td>\n",
       "      <td>...</td>\n",
       "      <td>...</td>\n",
       "      <td>...</td>\n",
       "      <td>...</td>\n",
       "    </tr>\n",
       "    <tr>\n",
       "      <th>949</th>\n",
       "      <td>982</td>\n",
       "      <td>chest radiograph: pa and lateral views history...</td>\n",
       "      <td>lungs: the lung fields demonstrate normal degr...</td>\n",
       "      <td>: r05 cough \\n\\n</td>\n",
       "      <td>chest radiograph: pa and lateral views\\n\\ncomp...</td>\n",
       "      <td>: no acute pulmonary disease.</td>\n",
       "    </tr>\n",
       "    <tr>\n",
       "      <th>950</th>\n",
       "      <td>983</td>\n",
       "      <td>exam description: x-ray single view chest. cli...</td>\n",
       "      <td>: the lungs are well expanded and are clear. t...</td>\n",
       "      <td>: 68 years male, sob \\n\\n</td>\n",
       "      <td>description: x-ray single view chest.\\n\\ntech...</td>\n",
       "      <td>: no evidence of acute intrathoracic disease. ...</td>\n",
       "    </tr>\n",
       "    <tr>\n",
       "      <th>951</th>\n",
       "      <td>984</td>\n",
       "      <td>exam: chest radiography exam date: 04/02/2018 ...</td>\n",
       "      <td>: lungs/pleura: no focal opacities evident. no...</td>\n",
       "      <td>: chest pain. \\n\\n</td>\n",
       "      <td>: chest radiography  date: 04/02/2018 10:49 pm...</td>\n",
       "      <td>: normal single view chest.</td>\n",
       "    </tr>\n",
       "    <tr>\n",
       "      <th>952</th>\n",
       "      <td>985</td>\n",
       "      <td>exam: xr chest 1 vw history: chest pain techni...</td>\n",
       "      <td>: lines and tubes: none cardiomediastinal: the...</td>\n",
       "      <td>: chest pain \\n\\n</td>\n",
       "      <td>: xr chest 1 vw\\n\\ntechnique: chest ap view(s)...</td>\n",
       "      <td>: no acute cardiopulmonary process dictated by...</td>\n",
       "    </tr>\n",
       "    <tr>\n",
       "      <th>953</th>\n",
       "      <td>986</td>\n",
       "      <td>exam: xr chest ap or pa only indication: dyspn...</td>\n",
       "      <td>: persistent mild pulmonary vascular congestio...</td>\n",
       "      <td>: dyspnea \\n\\n</td>\n",
       "      <td>: xr chest ap or pa only\\n\\ntechnique: single ...</td>\n",
       "      <td>: 1. persistent mild pulmonary vascular conges...</td>\n",
       "    </tr>\n",
       "  </tbody>\n",
       "</table>\n",
       "<p>954 rows × 6 columns</p>\n",
       "</div>"
      ],
      "text/plain": [
       "    Unnamed: 0                                         ReportText  \\\n",
       "0            0  exam: chest radiography exam date: 06/01/2019 ...   \n",
       "1            1  exam: chest radiography exam date: 05/23/2020 ...   \n",
       "2            2  exam: chest radiography exam date: 12/13/2019 ...   \n",
       "3            3  exam: - chest-portable history: chest pain com...   \n",
       "4            4  exam: chest radiography exam date: 06/17/2021 ...   \n",
       "..         ...                                                ...   \n",
       "949        982  chest radiograph: pa and lateral views history...   \n",
       "950        983  exam description: x-ray single view chest. cli...   \n",
       "951        984  exam: chest radiography exam date: 04/02/2018 ...   \n",
       "952        985  exam: xr chest 1 vw history: chest pain techni...   \n",
       "953        986  exam: xr chest ap or pa only indication: dyspn...   \n",
       "\n",
       "                                              findings  \\\n",
       "0    : lungs/pleura: no focal opacities evident. no...   \n",
       "1    : lungs/pleura: no focal opacities evident. no...   \n",
       "2    : lungs/pleura: no focal opacities evident. no...   \n",
       "3       : heart size appears normal. lungs clear. \\n\\n   \n",
       "4    : lungs/pleura: no focal opacities evident. no...   \n",
       "..                                                 ...   \n",
       "949  lungs: the lung fields demonstrate normal degr...   \n",
       "950  : the lungs are well expanded and are clear. t...   \n",
       "951  : lungs/pleura: no focal opacities evident. no...   \n",
       "952  : lines and tubes: none cardiomediastinal: the...   \n",
       "953  : persistent mild pulmonary vascular congestio...   \n",
       "\n",
       "                                 clinicaldata  \\\n",
       "0                               : cough. \\n\\n   \n",
       "1                          : chest pain. \\n\\n   \n",
       "2                          : chest pain. \\n\\n   \n",
       "3                           : chest pain \\n\\n   \n",
       "4     : chest pain, shortness of breath. \\n\\n   \n",
       "..                                        ...   \n",
       "949                          : r05 cough \\n\\n   \n",
       "950                 : 68 years male, sob \\n\\n   \n",
       "951                        : chest pain. \\n\\n   \n",
       "952                         : chest pain \\n\\n   \n",
       "953                            : dyspnea \\n\\n   \n",
       "\n",
       "                                              ExamName  \\\n",
       "0    : chest radiography  date: 06/01/2019 08:30 pm...   \n",
       "1    : chest radiography  date: 05/23/2020 12:03 pm...   \n",
       "2    : chest radiography  date: 12/13/2019 03:40 pm...   \n",
       "3               : - chest-portable\\n\\ncomparison: none   \n",
       "4    : chest radiography  date: 06/17/2021 03:09 pm...   \n",
       "..                                                 ...   \n",
       "949  chest radiograph: pa and lateral views\\n\\ncomp...   \n",
       "950   description: x-ray single view chest.\\n\\ntech...   \n",
       "951  : chest radiography  date: 04/02/2018 10:49 pm...   \n",
       "952  : xr chest 1 vw\\n\\ntechnique: chest ap view(s)...   \n",
       "953  : xr chest ap or pa only\\n\\ntechnique: single ...   \n",
       "\n",
       "                                            impression  \n",
       "0                  : normal 2-view chest radiography.   \n",
       "1             : no acute cardiopulmonary abnormality.   \n",
       "2                 : no acute cardiopulmonary process.   \n",
       "3                                        : lungs clear  \n",
       "4                         : normal single view chest.   \n",
       "..                                                 ...  \n",
       "949                      : no acute pulmonary disease.  \n",
       "950  : no evidence of acute intrathoracic disease. ...  \n",
       "951                       : normal single view chest.   \n",
       "952  : no acute cardiopulmonary process dictated by...  \n",
       "953  : 1. persistent mild pulmonary vascular conges...  \n",
       "\n",
       "[954 rows x 6 columns]"
      ]
     },
     "execution_count": 4,
     "metadata": {},
     "output_type": "execute_result"
    }
   ],
   "source": [
    "file.dropna()"
   ]
  },
  {
   "cell_type": "code",
   "execution_count": 5,
   "id": "5f099096",
   "metadata": {},
   "outputs": [],
   "source": [
    "#files to do vector on\n",
    "exam_names = file['ExamName'].dropna().tolist()\n",
    "\n",
    "impressions= file['impression'].dropna().tolist()\n",
    "\n",
    "findings = file['findings'].dropna().tolist()\n",
    "\n",
    "clinical_data = file['clinicaldata'].dropna().tolist()\n"
   ]
  },
  {
   "cell_type": "code",
   "execution_count": 6,
   "id": "02871d40",
   "metadata": {},
   "outputs": [],
   "source": [
    "#making corpus\n",
    "corpus = exam_names + impressions + findings + clinical_data\n"
   ]
  },
  {
   "cell_type": "code",
   "execution_count": 7,
   "id": "44c71995",
   "metadata": {},
   "outputs": [],
   "source": [
    "#function to clean data\n",
    "def clean_data(w, stopwords):\n",
    "    w = w.lower()\n",
    "    w=re.sub(r'[^\\w\\s]','',w)\n",
    "    w=re.sub(r\"([0-9])\", r\" \",w)\n",
    "    words = w.split() \n",
    "    clean_words = [word for word in words if (word not in stopwords) and len(word) > 2]\n",
    "    return (clean_words)"
   ]
  },
  {
   "cell_type": "code",
   "execution_count": 49,
   "id": "1869052b",
   "metadata": {},
   "outputs": [],
   "source": [
    "#getting stopwords\n",
    "stopwords_list=stopwords.words('english')\n",
    "adjusted_corpus = []\n",
    "#cleaning data and making it so the corpus is a list of lists of words\n",
    "for i in corpus:\n",
    "    cleaned = clean_data(i,stopwords_list)\n",
    "    adjusted_corpus.append(cleaned)\n"
   ]
  },
  {
   "cell_type": "code",
   "execution_count": 9,
   "id": "386afb14",
   "metadata": {},
   "outputs": [],
   "source": [
    "#word2vec model\n",
    "cores= multiprocessing.cpu_count()\n",
    "model = Word2Vec(min_count=5,window=5,workers=cores-1,max_vocab_size=100000)"
   ]
  },
  {
   "cell_type": "code",
   "execution_count": 10,
   "id": "12e25402",
   "metadata": {},
   "outputs": [],
   "source": [
    "model.build_vocab(adjusted_corpus)"
   ]
  },
  {
   "cell_type": "code",
   "execution_count": 11,
   "id": "c4391d42",
   "metadata": {},
   "outputs": [],
   "source": [
    "model.build_vocab(adjusted_corpus, update=True)"
   ]
  },
  {
   "cell_type": "code",
   "execution_count": null,
   "id": "9dc9ac7f",
   "metadata": {},
   "outputs": [],
   "source": []
  },
  {
   "cell_type": "code",
   "execution_count": 12,
   "id": "c5b08926",
   "metadata": {},
   "outputs": [
    {
     "data": {
      "text/plain": [
       "(743015, 1566300)"
      ]
     },
     "execution_count": 12,
     "metadata": {},
     "output_type": "execute_result"
    }
   ],
   "source": [
    "model.train(adjusted_corpus, total_examples=model.corpus_count,epochs=50)"
   ]
  },
  {
   "cell_type": "code",
   "execution_count": 13,
   "id": "2cc4328c",
   "metadata": {},
   "outputs": [],
   "source": [
    "path = r\"C:\\Users\\mjjyo\\OneDrive\\Desktop\\openavenuesmicrointernship\\word2vecmodel\""
   ]
  },
  {
   "cell_type": "code",
   "execution_count": 14,
   "id": "614c5f22",
   "metadata": {},
   "outputs": [],
   "source": [
    "model.save(path)\n"
   ]
  },
  {
   "cell_type": "code",
   "execution_count": 15,
   "id": "3b6cedaa",
   "metadata": {},
   "outputs": [],
   "source": [
    "trained_model = gensim.models.Word2Vec.load(path)\n"
   ]
  },
  {
   "cell_type": "code",
   "execution_count": null,
   "id": "5ed3f374",
   "metadata": {},
   "outputs": [],
   "source": []
  },
  {
   "cell_type": "code",
   "execution_count": 16,
   "id": "709e1e58",
   "metadata": {},
   "outputs": [],
   "source": [
    "import numpy as np\n",
    "from sklearn.model_selection import train_test_split\n",
    "from sklearn.manifold import TSNE\n",
    "import matplotlib.pyplot as plt"
   ]
  },
  {
   "cell_type": "code",
   "execution_count": null,
   "id": "a377bc27",
   "metadata": {},
   "outputs": [],
   "source": []
  },
  {
   "cell_type": "code",
   "execution_count": null,
   "id": "3125acc4",
   "metadata": {},
   "outputs": [],
   "source": []
  },
  {
   "cell_type": "code",
   "execution_count": 17,
   "id": "e65cce3e",
   "metadata": {},
   "outputs": [],
   "source": [
    "def get_sentence_vectors(text):\n",
    "    tokens = text.split()\n",
    "    vectors = []\n",
    "    for token in tokens:\n",
    "        if token in trained_model.wv.index_to_key:\n",
    "            vectors.append(trained_model.wv[token])\n",
    "    if len(vectors) > 0:\n",
    "        return np.mean(vectors, axis=0)\n",
    "    else:\n",
    "        return np.zeros((trained_model.vector_size,))"
   ]
  },
  {
   "cell_type": "code",
   "execution_count": 35,
   "id": "608f0229",
   "metadata": {},
   "outputs": [],
   "source": [
    "X = np.array([get_sentence_vectors(text) for text in corpus])\n"
   ]
  },
  {
   "cell_type": "code",
   "execution_count": 36,
   "id": "e80d9ad0",
   "metadata": {},
   "outputs": [],
   "source": [
    "height = 3816\n",
    "y = pd.DataFrame(0, index=range(height), columns=range(1))\n",
    "\n",
    "y.loc[0:953] = 'ExamName'\n",
    "y.loc[954:1907] = 'impression'\n",
    "y.loc[1908:2861] = 'findings'\n",
    "y.loc[2862:3816] = 'clinicaldata'\n"
   ]
  },
  {
   "cell_type": "code",
   "execution_count": 38,
   "id": "e71b9141",
   "metadata": {
    "scrolled": true
   },
   "outputs": [],
   "source": [
    "x_train, x_test, y_train, y_test = train_test_split(X,\n",
    "                                                    y,\n",
    "                                                    test_size=0.33,\n",
    "                                                    random_state=1234)"
   ]
  },
  {
   "cell_type": "code",
   "execution_count": 39,
   "id": "b7b6cdaa",
   "metadata": {},
   "outputs": [],
   "source": [
    "from sklearn.linear_model import LogisticRegression\n",
    "from sklearn.model_selection import GridSearchCV\n",
    "from sklearn.metrics import classification_report, confusion_matrix, accuracy_score\n"
   ]
  },
  {
   "cell_type": "code",
   "execution_count": 40,
   "id": "7e38752b",
   "metadata": {},
   "outputs": [],
   "source": [
    "lr_model = LogisticRegression(random_state=1234)\n",
    "param_dict = {'C': [0.001, 0.01, 0.1, 1, 10],\n",
    "             'solver': ['sag', 'lbfgs', 'saga']}"
   ]
  },
  {
   "cell_type": "code",
   "execution_count": 41,
   "id": "f0b20f98",
   "metadata": {},
   "outputs": [
    {
     "name": "stderr",
     "output_type": "stream",
     "text": [
      "C:\\Users\\mjjyo\\anaconda3\\lib\\site-packages\\sklearn\\utils\\validation.py:993: DataConversionWarning: A column-vector y was passed when a 1d array was expected. Please change the shape of y to (n_samples, ), for example using ravel().\n",
      "  y = column_or_1d(y, warn=True)\n",
      "C:\\Users\\mjjyo\\anaconda3\\lib\\site-packages\\sklearn\\linear_model\\_logistic.py:814: ConvergenceWarning: lbfgs failed to converge (status=1):\n",
      "STOP: TOTAL NO. of ITERATIONS REACHED LIMIT.\n",
      "\n",
      "Increase the number of iterations (max_iter) or scale the data as shown in:\n",
      "    https://scikit-learn.org/stable/modules/preprocessing.html\n",
      "Please also refer to the documentation for alternative solver options:\n",
      "    https://scikit-learn.org/stable/modules/linear_model.html#logistic-regression\n",
      "  n_iter_i = _check_optimize_result(\n"
     ]
    }
   ],
   "source": [
    "lr_model = LogisticRegression(random_state=1234)\n",
    "lr_model.fit(x_train, y_train)\n",
    "lr_preds = lr_model.predict(x_test)"
   ]
  },
  {
   "cell_type": "code",
   "execution_count": 42,
   "id": "9ad44e2d",
   "metadata": {},
   "outputs": [
    {
     "name": "stdout",
     "output_type": "stream",
     "text": [
      "[[309   6   0   0]\n",
      " [  0 315   5   1]\n",
      " [  0   0 325   6]\n",
      " [  0   4   8 281]]\n",
      "              precision    recall  f1-score   support\n",
      "\n",
      "    ExamName       1.00      0.98      0.99       315\n",
      "clinicaldata       0.97      0.98      0.98       321\n",
      "    findings       0.96      0.98      0.97       331\n",
      "  impression       0.98      0.96      0.97       293\n",
      "\n",
      "    accuracy                           0.98      1260\n",
      "   macro avg       0.98      0.98      0.98      1260\n",
      "weighted avg       0.98      0.98      0.98      1260\n",
      "\n",
      "Accuracy Score: 0.976\n"
     ]
    }
   ],
   "source": [
    "\n",
    "print(confusion_matrix(y_test, lr_preds))\n",
    "print(classification_report(y_test, lr_preds))\n",
    "print(\"Accuracy Score: %.3f\" % accuracy_score(y_test, lr_preds))\n"
   ]
  },
  {
   "cell_type": "code",
   "execution_count": 55,
   "id": "dc670286",
   "metadata": {},
   "outputs": [],
   "source": [
    "def color_func(count):\n",
    "    if 954 >= count > 0:\n",
    "        return ('blue', 'Exam Name')\n",
    "    elif 1908 >= count > 954:\n",
    "        return ('red', 'Impression')\n",
    "    elif 2862 >= count > 1908:\n",
    "        return ('green', 'Findings')\n",
    "    elif 3812 >= count > 2862:\n",
    "        return ('yellow', 'Clinical Data')"
   ]
  },
  {
   "cell_type": "code",
   "execution_count": 51,
   "id": "bf06c77a",
   "metadata": {},
   "outputs": [],
   "source": [
    "X_embedded = TSNE(n_components = 2, learning_rate='auto', init='random', perplexity=3).fit_transform(X)\n"
   ]
  },
  {
   "cell_type": "code",
   "execution_count": 56,
   "id": "c11f1206",
   "metadata": {},
   "outputs": [
    {
     "ename": "TypeError",
     "evalue": "cannot unpack non-iterable NoneType object",
     "output_type": "error",
     "traceback": [
      "\u001b[1;31m---------------------------------------------------------------------------\u001b[0m",
      "\u001b[1;31mTypeError\u001b[0m                                 Traceback (most recent call last)",
      "\u001b[1;32m~\\AppData\\Local\\Temp\\ipykernel_13916\\953687530.py\u001b[0m in \u001b[0;36m<module>\u001b[1;34m\u001b[0m\n\u001b[0;32m      1\u001b[0m \u001b[0mnum\u001b[0m \u001b[1;33m=\u001b[0m \u001b[1;36m1\u001b[0m\u001b[1;33m\u001b[0m\u001b[1;33m\u001b[0m\u001b[0m\n\u001b[0;32m      2\u001b[0m \u001b[1;32mfor\u001b[0m \u001b[0mi\u001b[0m \u001b[1;32min\u001b[0m \u001b[0mX_embedded\u001b[0m\u001b[1;33m:\u001b[0m\u001b[1;33m\u001b[0m\u001b[1;33m\u001b[0m\u001b[0m\n\u001b[1;32m----> 3\u001b[1;33m     \u001b[0mcolor\u001b[0m\u001b[1;33m,\u001b[0m \u001b[0mname\u001b[0m \u001b[1;33m=\u001b[0m \u001b[0mcolor_func\u001b[0m\u001b[1;33m(\u001b[0m\u001b[0mnum\u001b[0m\u001b[1;33m)\u001b[0m\u001b[1;33m\u001b[0m\u001b[1;33m\u001b[0m\u001b[0m\n\u001b[0m\u001b[0;32m      4\u001b[0m     \u001b[0mplt\u001b[0m\u001b[1;33m.\u001b[0m\u001b[0mscatter\u001b[0m\u001b[1;33m(\u001b[0m\u001b[0mi\u001b[0m\u001b[1;33m[\u001b[0m\u001b[1;36m0\u001b[0m\u001b[1;33m]\u001b[0m\u001b[1;33m,\u001b[0m \u001b[0mi\u001b[0m\u001b[1;33m[\u001b[0m\u001b[1;36m1\u001b[0m\u001b[1;33m]\u001b[0m\u001b[1;33m,\u001b[0m \u001b[0mc\u001b[0m \u001b[1;33m=\u001b[0m \u001b[0mcolor\u001b[0m\u001b[1;33m,\u001b[0m \u001b[0mlabel\u001b[0m \u001b[1;33m=\u001b[0m \u001b[0mname\u001b[0m\u001b[1;33m)\u001b[0m\u001b[1;33m\u001b[0m\u001b[1;33m\u001b[0m\u001b[0m\n\u001b[0;32m      5\u001b[0m     \u001b[0mnum\u001b[0m \u001b[1;33m+=\u001b[0m \u001b[1;36m1\u001b[0m\u001b[1;33m\u001b[0m\u001b[1;33m\u001b[0m\u001b[0m\n",
      "\u001b[1;31mTypeError\u001b[0m: cannot unpack non-iterable NoneType object"
     ]
    },
    {
     "data": {
      "image/png": "[encoded data removed]",
      "text/plain": [
       "<Figure size 640x480 with 1 Axes>"
      ]
     },
     "metadata": {},
     "output_type": "display_data"
    }
   ],
   "source": [
    "num = 1\n",
    "for i in X_embedded:\n",
    "    color, name = color_func(num)\n",
    "    plt.scatter(i[0], i[1], c = color, label = name)\n",
    "    num += 1\n",
    "#Blue is Exam Name\n",
    "#Red is Impression\n",
    "#Green is findings\n",
    "#Yellow is Clinical Data"
   ]
  },
  {
   "cell_type": "code",
   "execution_count": null,
   "id": "47bdbf8b",
   "metadata": {},
   "outputs": [],
   "source": []
  }
 ],
 "metadata": {
  "kernelspec": {
   "display_name": "Python 3 (ipykernel)",
   "language": "python",
   "name": "python3"
  },
  "language_info": {
   "codemirror_mode": {
    "name": "ipython",
    "version": 3
   },
   "file_extension": ".py",
   "mimetype": "text/x-python",
   "name": "python",
   "nbconvert_exporter": "python",
   "pygments_lexer": "ipython3",
   "version": "3.9.13"
  }
 },
 "nbformat": 4,
 "nbformat_minor": 5
}
