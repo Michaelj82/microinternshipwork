{
 "cells": [
  {
   "cell_type": "code",
   "execution_count": 1,
   "id": "dada076e",
   "metadata": {},
   "outputs": [],
   "source": [
    "from sklearn.feature_extraction.text import TfidfVectorizer\n",
    "import pandas as pd"
   ]
  },
  {
   "cell_type": "code",
   "execution_count": 2,
   "id": "5e07cdeb",
   "metadata": {},
   "outputs": [],
   "source": [
    "file = ('C:\\\\Users\\\\mjjyo\\\\OneDrive\\\\Desktop\\\\openavenuesmicrointernship\\\\open_ave_data.csv')\n",
    "file = pd.read_csv(file)"
   ]
  },
  {
   "cell_type": "code",
   "execution_count": 3,
   "id": "e616ac3b",
   "metadata": {},
   "outputs": [
    {
     "data": {
      "text/html": [
       "<div>\n",
       "<style scoped>\n",
       "    .dataframe tbody tr th:only-of-type {\n",
       "        vertical-align: middle;\n",
       "    }\n",
       "\n",
       "    .dataframe tbody tr th {\n",
       "        vertical-align: top;\n",
       "    }\n",
       "\n",
       "    .dataframe thead th {\n",
       "        text-align: right;\n",
       "    }\n",
       "</style>\n",
       "<table border=\"1\" class=\"dataframe\">\n",
       "  <thead>\n",
       "    <tr style=\"text-align: right;\">\n",
       "      <th></th>\n",
       "      <th>Unnamed: 0</th>\n",
       "      <th>ReportText</th>\n",
       "      <th>findings</th>\n",
       "      <th>clinicaldata</th>\n",
       "      <th>ExamName</th>\n",
       "      <th>impression</th>\n",
       "    </tr>\n",
       "  </thead>\n",
       "  <tbody>\n",
       "    <tr>\n",
       "      <th>0</th>\n",
       "      <td>0</td>\n",
       "      <td>EXAM: CHEST RADIOGRAPHY EXAM DATE: 06/01/2019 ...</td>\n",
       "      <td>FINDINGS: Lungs/Pleura: No focal opacities evi...</td>\n",
       "      <td>CLINICAL HISTORY: Cough. \\n\\n</td>\n",
       "      <td>EXAM: CHEST RADIOGRAPHY EXAM DATE: 06/01/2019 ...</td>\n",
       "      <td>IMPRESSION: Normal 2-view chest radiography.</td>\n",
       "    </tr>\n",
       "    <tr>\n",
       "      <th>1</th>\n",
       "      <td>1</td>\n",
       "      <td>EXAM: CHEST RADIOGRAPHY EXAM DATE: 05/23/2020 ...</td>\n",
       "      <td>FINDINGS: Lungs/Pleura: No focal opacities evi...</td>\n",
       "      <td>CLINICAL HISTORY: CHEST PAIN. \\n\\n</td>\n",
       "      <td>EXAM: CHEST RADIOGRAPHY EXAM DATE: 05/23/2020 ...</td>\n",
       "      <td>IMPRESSION: No acute cardiopulmonary abnormali...</td>\n",
       "    </tr>\n",
       "    <tr>\n",
       "      <th>2</th>\n",
       "      <td>2</td>\n",
       "      <td>EXAM: CHEST RADIOGRAPHY EXAM DATE: 12/13/2019 ...</td>\n",
       "      <td>FINDINGS: Lungs/Pleura: No focal opacities evi...</td>\n",
       "      <td>CLINICAL HISTORY: CHEST PAIN. \\n\\n</td>\n",
       "      <td>EXAM: CHEST RADIOGRAPHY EXAM DATE: 12/13/2019 ...</td>\n",
       "      <td>IMPRESSION: No acute cardiopulmonary process.</td>\n",
       "    </tr>\n",
       "    <tr>\n",
       "      <th>3</th>\n",
       "      <td>3</td>\n",
       "      <td>Exam: - CHEST-PORTABLE History: Chest pain Com...</td>\n",
       "      <td>Findings: Heart size appears normal. Lungs cle...</td>\n",
       "      <td>History: Chest pain \\n\\n</td>\n",
       "      <td>Exam: - CHEST-PORTABLE\\n\\nComparison: None</td>\n",
       "      <td>Impression: Lungs clear</td>\n",
       "    </tr>\n",
       "    <tr>\n",
       "      <th>4</th>\n",
       "      <td>4</td>\n",
       "      <td>EXAM: CHEST RADIOGRAPHY EXAM DATE: 06/17/2021 ...</td>\n",
       "      <td>FINDINGS: Lungs/Pleura: No focal opacities evi...</td>\n",
       "      <td>CLINICAL HISTORY: CHEST PAIN, SHORTNESS OF BRE...</td>\n",
       "      <td>EXAM: CHEST RADIOGRAPHY EXAM DATE: 06/17/2021 ...</td>\n",
       "      <td>IMPRESSION: Normal single view chest.</td>\n",
       "    </tr>\n",
       "    <tr>\n",
       "      <th>...</th>\n",
       "      <td>...</td>\n",
       "      <td>...</td>\n",
       "      <td>...</td>\n",
       "      <td>...</td>\n",
       "      <td>...</td>\n",
       "      <td>...</td>\n",
       "    </tr>\n",
       "    <tr>\n",
       "      <th>949</th>\n",
       "      <td>982</td>\n",
       "      <td>CHEST RADIOGRAPH: PA and Lateral views HISTORY...</td>\n",
       "      <td>LUNGS: The lung fields demonstrate normal degr...</td>\n",
       "      <td>HISTORY: R05 Cough \\n\\n</td>\n",
       "      <td>CHEST RADIOGRAPH: PA and Lateral views\\n\\nCOMP...</td>\n",
       "      <td>IMPRESSION: No acute pulmonary disease.</td>\n",
       "    </tr>\n",
       "    <tr>\n",
       "      <th>950</th>\n",
       "      <td>983</td>\n",
       "      <td>EXAM DESCRIPTION: X-ray single view chest. CLI...</td>\n",
       "      <td>FINDINGS: The lungs are well expanded and are ...</td>\n",
       "      <td>CLINICAL HISTORY: 68 years Male, SOB \\n\\n</td>\n",
       "      <td>EXAM DESCRIPTION: X-ray single view chest.\\n\\n...</td>\n",
       "      <td>IMPRESSION: No evidence of acute intrathoracic...</td>\n",
       "    </tr>\n",
       "    <tr>\n",
       "      <th>951</th>\n",
       "      <td>984</td>\n",
       "      <td>EXAM: CHEST RADIOGRAPHY EXAM DATE: 04/02/2018 ...</td>\n",
       "      <td>FINDINGS: Lungs/Pleura: No focal opacities evi...</td>\n",
       "      <td>CLINICAL HISTORY: Chest pain. \\n\\n</td>\n",
       "      <td>EXAM: CHEST RADIOGRAPHY EXAM DATE: 04/02/2018 ...</td>\n",
       "      <td>IMPRESSION: Normal single view chest.</td>\n",
       "    </tr>\n",
       "    <tr>\n",
       "      <th>952</th>\n",
       "      <td>985</td>\n",
       "      <td>EXAM: XR CHEST 1 VW HISTORY: chest pain TECHNI...</td>\n",
       "      <td>FINDINGS: Lines and tubes: None Cardiomediasti...</td>\n",
       "      <td>HISTORY: chest pain \\n\\n</td>\n",
       "      <td>EXAM: XR CHEST 1 VW\\n\\nTECHNIQUE: Chest AP vie...</td>\n",
       "      <td>IMPRESSION: No acute cardiopulmonary process D...</td>\n",
       "    </tr>\n",
       "    <tr>\n",
       "      <th>953</th>\n",
       "      <td>986</td>\n",
       "      <td>Exam: XR CHEST AP OR PA ONLY INDICATION: Dyspn...</td>\n",
       "      <td>FINDINGS: Persistent mild pulmonary vascular c...</td>\n",
       "      <td>INDICATION: Dyspnea \\n\\n</td>\n",
       "      <td>Exam: XR CHEST AP OR PA ONLY\\n\\nTECHNIQUE: Sin...</td>\n",
       "      <td>IMPRESSION: 1. Persistent mild pulmonary vascu...</td>\n",
       "    </tr>\n",
       "  </tbody>\n",
       "</table>\n",
       "<p>950 rows × 6 columns</p>\n",
       "</div>"
      ],
      "text/plain": [
       "     Unnamed: 0                                         ReportText  \\\n",
       "0             0  EXAM: CHEST RADIOGRAPHY EXAM DATE: 06/01/2019 ...   \n",
       "1             1  EXAM: CHEST RADIOGRAPHY EXAM DATE: 05/23/2020 ...   \n",
       "2             2  EXAM: CHEST RADIOGRAPHY EXAM DATE: 12/13/2019 ...   \n",
       "3             3  Exam: - CHEST-PORTABLE History: Chest pain Com...   \n",
       "4             4  EXAM: CHEST RADIOGRAPHY EXAM DATE: 06/17/2021 ...   \n",
       "..          ...                                                ...   \n",
       "949         982  CHEST RADIOGRAPH: PA and Lateral views HISTORY...   \n",
       "950         983  EXAM DESCRIPTION: X-ray single view chest. CLI...   \n",
       "951         984  EXAM: CHEST RADIOGRAPHY EXAM DATE: 04/02/2018 ...   \n",
       "952         985  EXAM: XR CHEST 1 VW HISTORY: chest pain TECHNI...   \n",
       "953         986  Exam: XR CHEST AP OR PA ONLY INDICATION: Dyspn...   \n",
       "\n",
       "                                              findings  \\\n",
       "0    FINDINGS: Lungs/Pleura: No focal opacities evi...   \n",
       "1    FINDINGS: Lungs/Pleura: No focal opacities evi...   \n",
       "2    FINDINGS: Lungs/Pleura: No focal opacities evi...   \n",
       "3    Findings: Heart size appears normal. Lungs cle...   \n",
       "4    FINDINGS: Lungs/Pleura: No focal opacities evi...   \n",
       "..                                                 ...   \n",
       "949  LUNGS: The lung fields demonstrate normal degr...   \n",
       "950  FINDINGS: The lungs are well expanded and are ...   \n",
       "951  FINDINGS: Lungs/Pleura: No focal opacities evi...   \n",
       "952  FINDINGS: Lines and tubes: None Cardiomediasti...   \n",
       "953  FINDINGS: Persistent mild pulmonary vascular c...   \n",
       "\n",
       "                                          clinicaldata  \\\n",
       "0                        CLINICAL HISTORY: Cough. \\n\\n   \n",
       "1                   CLINICAL HISTORY: CHEST PAIN. \\n\\n   \n",
       "2                   CLINICAL HISTORY: CHEST PAIN. \\n\\n   \n",
       "3                             History: Chest pain \\n\\n   \n",
       "4    CLINICAL HISTORY: CHEST PAIN, SHORTNESS OF BRE...   \n",
       "..                                                 ...   \n",
       "949                            HISTORY: R05 Cough \\n\\n   \n",
       "950          CLINICAL HISTORY: 68 years Male, SOB \\n\\n   \n",
       "951                 CLINICAL HISTORY: Chest pain. \\n\\n   \n",
       "952                           HISTORY: chest pain \\n\\n   \n",
       "953                           INDICATION: Dyspnea \\n\\n   \n",
       "\n",
       "                                              ExamName  \\\n",
       "0    EXAM: CHEST RADIOGRAPHY EXAM DATE: 06/01/2019 ...   \n",
       "1    EXAM: CHEST RADIOGRAPHY EXAM DATE: 05/23/2020 ...   \n",
       "2    EXAM: CHEST RADIOGRAPHY EXAM DATE: 12/13/2019 ...   \n",
       "3           Exam: - CHEST-PORTABLE\\n\\nComparison: None   \n",
       "4    EXAM: CHEST RADIOGRAPHY EXAM DATE: 06/17/2021 ...   \n",
       "..                                                 ...   \n",
       "949  CHEST RADIOGRAPH: PA and Lateral views\\n\\nCOMP...   \n",
       "950  EXAM DESCRIPTION: X-ray single view chest.\\n\\n...   \n",
       "951  EXAM: CHEST RADIOGRAPHY EXAM DATE: 04/02/2018 ...   \n",
       "952  EXAM: XR CHEST 1 VW\\n\\nTECHNIQUE: Chest AP vie...   \n",
       "953  Exam: XR CHEST AP OR PA ONLY\\n\\nTECHNIQUE: Sin...   \n",
       "\n",
       "                                            impression  \n",
       "0        IMPRESSION: Normal 2-view chest radiography.   \n",
       "1    IMPRESSION: No acute cardiopulmonary abnormali...  \n",
       "2       IMPRESSION: No acute cardiopulmonary process.   \n",
       "3                              Impression: Lungs clear  \n",
       "4               IMPRESSION: Normal single view chest.   \n",
       "..                                                 ...  \n",
       "949            IMPRESSION: No acute pulmonary disease.  \n",
       "950  IMPRESSION: No evidence of acute intrathoracic...  \n",
       "951             IMPRESSION: Normal single view chest.   \n",
       "952  IMPRESSION: No acute cardiopulmonary process D...  \n",
       "953  IMPRESSION: 1. Persistent mild pulmonary vascu...  \n",
       "\n",
       "[950 rows x 6 columns]"
      ]
     },
     "execution_count": 3,
     "metadata": {},
     "output_type": "execute_result"
    }
   ],
   "source": [
    "file.dropna()"
   ]
  },
  {
   "cell_type": "code",
   "execution_count": 4,
   "id": "1f2252ab",
   "metadata": {},
   "outputs": [
    {
     "name": "stdout",
     "output_type": "stream",
     "text": [
      "954\n",
      "954\n",
      "954\n",
      "950\n"
     ]
    }
   ],
   "source": [
    "#files to do idf on\n",
    "exam_names = file['ExamName'].dropna().tolist()\n",
    "print(len(exam_names))\n",
    "\n",
    "impressions= file['impression'].dropna().tolist()\n",
    "print(len(impressions))\n",
    "\n",
    "findings = file['findings'].dropna().tolist()\n",
    "print(len(findings))\n",
    "\n",
    "clinical_data = file['clinicaldata'].dropna().tolist()\n",
    "print(len(clinical_data))\n"
   ]
  },
  {
   "cell_type": "code",
   "execution_count": 5,
   "id": "60a9adb5",
   "metadata": {},
   "outputs": [],
   "source": [
    "#list of corpus\n",
    "corpus = exam_names + impressions + findings + clinical_data\n"
   ]
  },
  {
   "cell_type": "code",
   "execution_count": 6,
   "id": "6d6a4643",
   "metadata": {},
   "outputs": [
    {
     "data": {
      "text/plain": [
       "array(['00', '01', '02', ..., 'your', 'zip', 'zone'], dtype=object)"
      ]
     },
     "execution_count": 6,
     "metadata": {},
     "output_type": "execute_result"
    }
   ],
   "source": [
    "\n",
    "vectorizer = TfidfVectorizer()\n",
    "X = vectorizer.fit_transform(corpus)\n",
    "vectorizer.get_feature_names_out()"
   ]
  },
  {
   "cell_type": "code",
   "execution_count": 7,
   "id": "6f70c646",
   "metadata": {},
   "outputs": [
    {
     "name": "stdout",
     "output_type": "stream",
     "text": [
      "(3812, 1083)\n"
     ]
    }
   ],
   "source": [
    "print(X.shape)"
   ]
  },
  {
   "cell_type": "code",
   "execution_count": 8,
   "id": "9cc254e9",
   "metadata": {},
   "outputs": [
    {
     "data": {
      "text/plain": [
       "array([[0.        , 0.32614224, 0.        , ..., 0.        , 0.        ,\n",
       "        0.        ],\n",
       "       [0.        , 0.        , 0.        , ..., 0.        , 0.        ,\n",
       "        0.        ],\n",
       "       [0.        , 0.        , 0.        , ..., 0.        , 0.        ,\n",
       "        0.        ],\n",
       "       ...,\n",
       "       [0.        , 0.        , 0.        , ..., 0.        , 0.        ,\n",
       "        0.        ],\n",
       "       [0.        , 0.        , 0.        , ..., 0.        , 0.        ,\n",
       "        0.        ],\n",
       "       [0.        , 0.        , 0.        , ..., 0.        , 0.        ,\n",
       "        0.        ]])"
      ]
     },
     "execution_count": 8,
     "metadata": {},
     "output_type": "execute_result"
    }
   ],
   "source": [
    "X.toarray()"
   ]
  },
  {
   "cell_type": "code",
   "execution_count": 26,
   "id": "5004b292",
   "metadata": {},
   "outputs": [
    {
     "data": {
      "text/plain": [
       "(3812, 1083)"
      ]
     },
     "execution_count": 26,
     "metadata": {},
     "output_type": "execute_result"
    }
   ],
   "source": [
    "import numpy as np\n",
    "from sklearn.model_selection import train_test_split\n",
    "X.shape"
   ]
  },
  {
   "cell_type": "code",
   "execution_count": 35,
   "id": "cab0c068",
   "metadata": {},
   "outputs": [],
   "source": [
    "height = 3812\n",
    "y = pd.DataFrame(0, index=range(height), columns=range(1))"
   ]
  },
  {
   "cell_type": "code",
   "execution_count": 36,
   "id": "80cc2100",
   "metadata": {},
   "outputs": [],
   "source": [
    "y.shape\n",
    "\n",
    "y.loc[0:953,''] = 'ExamName'\n",
    "y.loc[954:1907,''] = 'impression'\n",
    "y.loc[1908:2861,''] = 'findings'\n",
    "y.loc[2862:3812,''] = 'clinicaldata'\n"
   ]
  },
  {
   "cell_type": "code",
   "execution_count": 37,
   "id": "127faee7",
   "metadata": {},
   "outputs": [
    {
     "data": {
      "text/html": [
       "<div>\n",
       "<style scoped>\n",
       "    .dataframe tbody tr th:only-of-type {\n",
       "        vertical-align: middle;\n",
       "    }\n",
       "\n",
       "    .dataframe tbody tr th {\n",
       "        vertical-align: top;\n",
       "    }\n",
       "\n",
       "    .dataframe thead th {\n",
       "        text-align: right;\n",
       "    }\n",
       "</style>\n",
       "<table border=\"1\" class=\"dataframe\">\n",
       "  <thead>\n",
       "    <tr style=\"text-align: right;\">\n",
       "      <th></th>\n",
       "      <th>0</th>\n",
       "      <th></th>\n",
       "    </tr>\n",
       "  </thead>\n",
       "  <tbody>\n",
       "    <tr>\n",
       "      <th>0</th>\n",
       "      <td>0</td>\n",
       "      <td>ExamName</td>\n",
       "    </tr>\n",
       "    <tr>\n",
       "      <th>1</th>\n",
       "      <td>0</td>\n",
       "      <td>ExamName</td>\n",
       "    </tr>\n",
       "    <tr>\n",
       "      <th>2</th>\n",
       "      <td>0</td>\n",
       "      <td>ExamName</td>\n",
       "    </tr>\n",
       "    <tr>\n",
       "      <th>3</th>\n",
       "      <td>0</td>\n",
       "      <td>ExamName</td>\n",
       "    </tr>\n",
       "    <tr>\n",
       "      <th>4</th>\n",
       "      <td>0</td>\n",
       "      <td>ExamName</td>\n",
       "    </tr>\n",
       "    <tr>\n",
       "      <th>...</th>\n",
       "      <td>...</td>\n",
       "      <td>...</td>\n",
       "    </tr>\n",
       "    <tr>\n",
       "      <th>3807</th>\n",
       "      <td>0</td>\n",
       "      <td>clinicaldata</td>\n",
       "    </tr>\n",
       "    <tr>\n",
       "      <th>3808</th>\n",
       "      <td>0</td>\n",
       "      <td>clinicaldata</td>\n",
       "    </tr>\n",
       "    <tr>\n",
       "      <th>3809</th>\n",
       "      <td>0</td>\n",
       "      <td>clinicaldata</td>\n",
       "    </tr>\n",
       "    <tr>\n",
       "      <th>3810</th>\n",
       "      <td>0</td>\n",
       "      <td>clinicaldata</td>\n",
       "    </tr>\n",
       "    <tr>\n",
       "      <th>3811</th>\n",
       "      <td>0</td>\n",
       "      <td>clinicaldata</td>\n",
       "    </tr>\n",
       "  </tbody>\n",
       "</table>\n",
       "<p>3812 rows × 2 columns</p>\n",
       "</div>"
      ],
      "text/plain": [
       "      0              \n",
       "0     0      ExamName\n",
       "1     0      ExamName\n",
       "2     0      ExamName\n",
       "3     0      ExamName\n",
       "4     0      ExamName\n",
       "...  ..           ...\n",
       "3807  0  clinicaldata\n",
       "3808  0  clinicaldata\n",
       "3809  0  clinicaldata\n",
       "3810  0  clinicaldata\n",
       "3811  0  clinicaldata\n",
       "\n",
       "[3812 rows x 2 columns]"
      ]
     },
     "execution_count": 37,
     "metadata": {},
     "output_type": "execute_result"
    }
   ],
   "source": [
    "y"
   ]
  },
  {
   "cell_type": "code",
   "execution_count": null,
   "id": "2ab9f531",
   "metadata": {},
   "outputs": [],
   "source": []
  }
 ],
 "metadata": {
  "kernelspec": {
   "display_name": "Python 3 (ipykernel)",
   "language": "python",
   "name": "python3"
  },
  "language_info": {
   "codemirror_mode": {
    "name": "ipython",
    "version": 3
   },
   "file_extension": ".py",
   "mimetype": "text/x-python",
   "name": "python",
   "nbconvert_exporter": "python",
   "pygments_lexer": "ipython3",
   "version": "3.9.13"
  }
 },
 "nbformat": 4,
 "nbformat_minor": 5
}
